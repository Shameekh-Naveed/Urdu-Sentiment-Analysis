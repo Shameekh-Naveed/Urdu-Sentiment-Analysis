{
  "cells": [
    {
      "cell_type": "code",
      "execution_count": null,
      "metadata": {
        "id": "YFV4gzKXdX0_"
      },
      "outputs": [],
      "source": [
        "# Dataset Link\n",
        "# https://www.kaggle.com/datasets/akkefa/imdb-dataset-of-50k-movie-translated-urdu-reviews"
      ]
    },
    {
      "cell_type": "code",
      "execution_count": null,
      "metadata": {
        "id": "Dez2B7zidX1J"
      },
      "outputs": [],
      "source": [
        "import pandas as pd\n",
        "import seaborn as sns\n",
        "from sklearn.naive_bayes import MultinomialNB\n",
        "from sklearn import metrics\n",
        "from sklearn import preprocessing\n",
        "from sklearn.model_selection import train_test_split\n",
        "from sklearn.pipeline import Pipeline\n",
        "from sklearn.feature_extraction.text import CountVectorizer\n",
        "from sklearn.feature_extraction.text import TfidfVectorizer\n",
        "from sklearn.metrics import confusion_matrix\n",
        "from sklearn import svm\n",
        "import xgboost as xgb\n",
        "from sklearn.metrics import classification_report\n",
        "from sklearn.linear_model import PassiveAggressiveClassifier\n"
      ]
    },
    {
      "cell_type": "code",
      "source": [
        "from google.colab import drive\n",
        "drive.mount('/content/drive')"
      ],
      "metadata": {
        "colab": {
          "base_uri": "https://localhost:8080/"
        },
        "id": "qSx3s4N6LYtf",
        "outputId": "34a2d6a6-f57e-4b54-ceb4-48248fabdc23"
      },
      "execution_count": null,
      "outputs": [
        {
          "output_type": "stream",
          "name": "stdout",
          "text": [
            "Mounted at /content/drive\n"
          ]
        }
      ]
    },
    {
      "cell_type": "code",
      "execution_count": null,
      "metadata": {
        "id": "fN3_Vj3wdX1L"
      },
      "outputs": [],
      "source": [
        "file_path = \"/content/drive/MyDrive/Urdu Reviews Dataset Main acc\"\n",
        "train_dataset_path = file_path + \"/imdb_urdu_reviews_train.csv\"\n",
        "test_dataset_path = file_path + \"/imdb_urdu_reviews_test.csv\""
      ]
    },
    {
      "cell_type": "code",
      "execution_count": null,
      "metadata": {
        "id": "nUs_cElAdX1N"
      },
      "outputs": [],
      "source": [
        "test_df = pd.read_csv(test_dataset_path, header=None)\n",
        "test_df = test_df.iloc[1:]\n",
        "train_df = pd.read_csv(train_dataset_path, header=None)\n"
      ]
    },
    {
      "cell_type": "code",
      "execution_count": null,
      "metadata": {
        "colab": {
          "base_uri": "https://localhost:8080/"
        },
        "id": "k_8VXpr2dX1O",
        "outputId": "88299bae-72c3-4b89-cfd7-6eaa291c0818"
      },
      "outputs": [
        {
          "output_type": "stream",
          "name": "stdout",
          "text": [
            "(50001, 2)\n"
          ]
        }
      ],
      "source": [
        "df =  pd.concat([train_df, test_df]).reset_index(drop=True)\n",
        "print(df.shape)\n"
      ]
    },
    {
      "cell_type": "code",
      "execution_count": null,
      "metadata": {
        "colab": {
          "base_uri": "https://localhost:8080/",
          "height": 264
        },
        "id": "5Jf8-wLbdX1Q",
        "outputId": "594199d6-08a8-41cd-f82a-cf3f4baa3329"
      },
      "outputs": [
        {
          "output_type": "stream",
          "name": "stdout",
          "text": [
            "['positive' 'negative']\n",
            "label\n",
            "positive    25000\n",
            "negative    25000\n",
            "Name: count, dtype: int64\n"
          ]
        },
        {
          "output_type": "execute_result",
          "data": {
            "text/plain": [
              "                                                     text     label\n",
              "count                                               50000     50000\n",
              "unique                                              49578         2\n",
              "top     آج کا شو پسند آیا !!! یہ ایک قسم تھی اور نہ صر...  positive\n",
              "freq                                                    5     25000"
            ],
            "text/html": [
              "\n",
              "  <div id=\"df-9d27e2fe-46ec-44c1-ad11-c1aa0653af50\" class=\"colab-df-container\">\n",
              "    <div>\n",
              "<style scoped>\n",
              "    .dataframe tbody tr th:only-of-type {\n",
              "        vertical-align: middle;\n",
              "    }\n",
              "\n",
              "    .dataframe tbody tr th {\n",
              "        vertical-align: top;\n",
              "    }\n",
              "\n",
              "    .dataframe thead th {\n",
              "        text-align: right;\n",
              "    }\n",
              "</style>\n",
              "<table border=\"1\" class=\"dataframe\">\n",
              "  <thead>\n",
              "    <tr style=\"text-align: right;\">\n",
              "      <th></th>\n",
              "      <th>text</th>\n",
              "      <th>label</th>\n",
              "    </tr>\n",
              "  </thead>\n",
              "  <tbody>\n",
              "    <tr>\n",
              "      <th>count</th>\n",
              "      <td>50000</td>\n",
              "      <td>50000</td>\n",
              "    </tr>\n",
              "    <tr>\n",
              "      <th>unique</th>\n",
              "      <td>49578</td>\n",
              "      <td>2</td>\n",
              "    </tr>\n",
              "    <tr>\n",
              "      <th>top</th>\n",
              "      <td>آج کا شو پسند آیا !!! یہ ایک قسم تھی اور نہ صر...</td>\n",
              "      <td>positive</td>\n",
              "    </tr>\n",
              "    <tr>\n",
              "      <th>freq</th>\n",
              "      <td>5</td>\n",
              "      <td>25000</td>\n",
              "    </tr>\n",
              "  </tbody>\n",
              "</table>\n",
              "</div>\n",
              "    <div class=\"colab-df-buttons\">\n",
              "\n",
              "  <div class=\"colab-df-container\">\n",
              "    <button class=\"colab-df-convert\" onclick=\"convertToInteractive('df-9d27e2fe-46ec-44c1-ad11-c1aa0653af50')\"\n",
              "            title=\"Convert this dataframe to an interactive table.\"\n",
              "            style=\"display:none;\">\n",
              "\n",
              "  <svg xmlns=\"http://www.w3.org/2000/svg\" height=\"24px\" viewBox=\"0 -960 960 960\">\n",
              "    <path d=\"M120-120v-720h720v720H120Zm60-500h600v-160H180v160Zm220 220h160v-160H400v160Zm0 220h160v-160H400v160ZM180-400h160v-160H180v160Zm440 0h160v-160H620v160ZM180-180h160v-160H180v160Zm440 0h160v-160H620v160Z\"/>\n",
              "  </svg>\n",
              "    </button>\n",
              "\n",
              "  <style>\n",
              "    .colab-df-container {\n",
              "      display:flex;\n",
              "      gap: 12px;\n",
              "    }\n",
              "\n",
              "    .colab-df-convert {\n",
              "      background-color: #E8F0FE;\n",
              "      border: none;\n",
              "      border-radius: 50%;\n",
              "      cursor: pointer;\n",
              "      display: none;\n",
              "      fill: #1967D2;\n",
              "      height: 32px;\n",
              "      padding: 0 0 0 0;\n",
              "      width: 32px;\n",
              "    }\n",
              "\n",
              "    .colab-df-convert:hover {\n",
              "      background-color: #E2EBFA;\n",
              "      box-shadow: 0px 1px 2px rgba(60, 64, 67, 0.3), 0px 1px 3px 1px rgba(60, 64, 67, 0.15);\n",
              "      fill: #174EA6;\n",
              "    }\n",
              "\n",
              "    .colab-df-buttons div {\n",
              "      margin-bottom: 4px;\n",
              "    }\n",
              "\n",
              "    [theme=dark] .colab-df-convert {\n",
              "      background-color: #3B4455;\n",
              "      fill: #D2E3FC;\n",
              "    }\n",
              "\n",
              "    [theme=dark] .colab-df-convert:hover {\n",
              "      background-color: #434B5C;\n",
              "      box-shadow: 0px 1px 3px 1px rgba(0, 0, 0, 0.15);\n",
              "      filter: drop-shadow(0px 1px 2px rgba(0, 0, 0, 0.3));\n",
              "      fill: #FFFFFF;\n",
              "    }\n",
              "  </style>\n",
              "\n",
              "    <script>\n",
              "      const buttonEl =\n",
              "        document.querySelector('#df-9d27e2fe-46ec-44c1-ad11-c1aa0653af50 button.colab-df-convert');\n",
              "      buttonEl.style.display =\n",
              "        google.colab.kernel.accessAllowed ? 'block' : 'none';\n",
              "\n",
              "      async function convertToInteractive(key) {\n",
              "        const element = document.querySelector('#df-9d27e2fe-46ec-44c1-ad11-c1aa0653af50');\n",
              "        const dataTable =\n",
              "          await google.colab.kernel.invokeFunction('convertToInteractive',\n",
              "                                                    [key], {});\n",
              "        if (!dataTable) return;\n",
              "\n",
              "        const docLinkHtml = 'Like what you see? Visit the ' +\n",
              "          '<a target=\"_blank\" href=https://colab.research.google.com/notebooks/data_table.ipynb>data table notebook</a>'\n",
              "          + ' to learn more about interactive tables.';\n",
              "        element.innerHTML = '';\n",
              "        dataTable['output_type'] = 'display_data';\n",
              "        await google.colab.output.renderOutput(dataTable, element);\n",
              "        const docLink = document.createElement('div');\n",
              "        docLink.innerHTML = docLinkHtml;\n",
              "        element.appendChild(docLink);\n",
              "      }\n",
              "    </script>\n",
              "  </div>\n",
              "\n",
              "\n",
              "<div id=\"df-7c40ed7f-9fea-4d10-a211-92619493c724\">\n",
              "  <button class=\"colab-df-quickchart\" onclick=\"quickchart('df-7c40ed7f-9fea-4d10-a211-92619493c724')\"\n",
              "            title=\"Suggest charts\"\n",
              "            style=\"display:none;\">\n",
              "\n",
              "<svg xmlns=\"http://www.w3.org/2000/svg\" height=\"24px\"viewBox=\"0 0 24 24\"\n",
              "     width=\"24px\">\n",
              "    <g>\n",
              "        <path d=\"M19 3H5c-1.1 0-2 .9-2 2v14c0 1.1.9 2 2 2h14c1.1 0 2-.9 2-2V5c0-1.1-.9-2-2-2zM9 17H7v-7h2v7zm4 0h-2V7h2v10zm4 0h-2v-4h2v4z\"/>\n",
              "    </g>\n",
              "</svg>\n",
              "  </button>\n",
              "\n",
              "<style>\n",
              "  .colab-df-quickchart {\n",
              "      --bg-color: #E8F0FE;\n",
              "      --fill-color: #1967D2;\n",
              "      --hover-bg-color: #E2EBFA;\n",
              "      --hover-fill-color: #174EA6;\n",
              "      --disabled-fill-color: #AAA;\n",
              "      --disabled-bg-color: #DDD;\n",
              "  }\n",
              "\n",
              "  [theme=dark] .colab-df-quickchart {\n",
              "      --bg-color: #3B4455;\n",
              "      --fill-color: #D2E3FC;\n",
              "      --hover-bg-color: #434B5C;\n",
              "      --hover-fill-color: #FFFFFF;\n",
              "      --disabled-bg-color: #3B4455;\n",
              "      --disabled-fill-color: #666;\n",
              "  }\n",
              "\n",
              "  .colab-df-quickchart {\n",
              "    background-color: var(--bg-color);\n",
              "    border: none;\n",
              "    border-radius: 50%;\n",
              "    cursor: pointer;\n",
              "    display: none;\n",
              "    fill: var(--fill-color);\n",
              "    height: 32px;\n",
              "    padding: 0;\n",
              "    width: 32px;\n",
              "  }\n",
              "\n",
              "  .colab-df-quickchart:hover {\n",
              "    background-color: var(--hover-bg-color);\n",
              "    box-shadow: 0 1px 2px rgba(60, 64, 67, 0.3), 0 1px 3px 1px rgba(60, 64, 67, 0.15);\n",
              "    fill: var(--button-hover-fill-color);\n",
              "  }\n",
              "\n",
              "  .colab-df-quickchart-complete:disabled,\n",
              "  .colab-df-quickchart-complete:disabled:hover {\n",
              "    background-color: var(--disabled-bg-color);\n",
              "    fill: var(--disabled-fill-color);\n",
              "    box-shadow: none;\n",
              "  }\n",
              "\n",
              "  .colab-df-spinner {\n",
              "    border: 2px solid var(--fill-color);\n",
              "    border-color: transparent;\n",
              "    border-bottom-color: var(--fill-color);\n",
              "    animation:\n",
              "      spin 1s steps(1) infinite;\n",
              "  }\n",
              "\n",
              "  @keyframes spin {\n",
              "    0% {\n",
              "      border-color: transparent;\n",
              "      border-bottom-color: var(--fill-color);\n",
              "      border-left-color: var(--fill-color);\n",
              "    }\n",
              "    20% {\n",
              "      border-color: transparent;\n",
              "      border-left-color: var(--fill-color);\n",
              "      border-top-color: var(--fill-color);\n",
              "    }\n",
              "    30% {\n",
              "      border-color: transparent;\n",
              "      border-left-color: var(--fill-color);\n",
              "      border-top-color: var(--fill-color);\n",
              "      border-right-color: var(--fill-color);\n",
              "    }\n",
              "    40% {\n",
              "      border-color: transparent;\n",
              "      border-right-color: var(--fill-color);\n",
              "      border-top-color: var(--fill-color);\n",
              "    }\n",
              "    60% {\n",
              "      border-color: transparent;\n",
              "      border-right-color: var(--fill-color);\n",
              "    }\n",
              "    80% {\n",
              "      border-color: transparent;\n",
              "      border-right-color: var(--fill-color);\n",
              "      border-bottom-color: var(--fill-color);\n",
              "    }\n",
              "    90% {\n",
              "      border-color: transparent;\n",
              "      border-bottom-color: var(--fill-color);\n",
              "    }\n",
              "  }\n",
              "</style>\n",
              "\n",
              "  <script>\n",
              "    async function quickchart(key) {\n",
              "      const quickchartButtonEl =\n",
              "        document.querySelector('#' + key + ' button');\n",
              "      quickchartButtonEl.disabled = true;  // To prevent multiple clicks.\n",
              "      quickchartButtonEl.classList.add('colab-df-spinner');\n",
              "      try {\n",
              "        const charts = await google.colab.kernel.invokeFunction(\n",
              "            'suggestCharts', [key], {});\n",
              "      } catch (error) {\n",
              "        console.error('Error during call to suggestCharts:', error);\n",
              "      }\n",
              "      quickchartButtonEl.classList.remove('colab-df-spinner');\n",
              "      quickchartButtonEl.classList.add('colab-df-quickchart-complete');\n",
              "    }\n",
              "    (() => {\n",
              "      let quickchartButtonEl =\n",
              "        document.querySelector('#df-7c40ed7f-9fea-4d10-a211-92619493c724 button');\n",
              "      quickchartButtonEl.style.display =\n",
              "        google.colab.kernel.accessAllowed ? 'block' : 'none';\n",
              "    })();\n",
              "  </script>\n",
              "</div>\n",
              "\n",
              "    </div>\n",
              "  </div>\n"
            ],
            "application/vnd.google.colaboratory.intrinsic+json": {
              "type": "dataframe",
              "summary": "{\n  \"name\": \"df\",\n  \"rows\": 4,\n  \"fields\": [\n    {\n      \"column\": \"text\",\n      \"properties\": {\n        \"dtype\": \"string\",\n        \"num_unique_values\": 4,\n        \"samples\": [\n          49578,\n          \"5\",\n          \"50000\"\n        ],\n        \"semantic_type\": \"\",\n        \"description\": \"\"\n      }\n    },\n    {\n      \"column\": \"label\",\n      \"properties\": {\n        \"dtype\": \"string\",\n        \"num_unique_values\": 4,\n        \"samples\": [\n          2,\n          \"25000\",\n          \"50000\"\n        ],\n        \"semantic_type\": \"\",\n        \"description\": \"\"\n      }\n    }\n  ]\n}"
            }
          },
          "metadata": {},
          "execution_count": 6
        }
      ],
      "source": [
        "df = df.iloc[1:]\n",
        "df.columns = ['text', 'label']\n",
        "print(df['label'].unique())\n",
        "print(df['label'].value_counts())\n",
        "df = df.dropna()\n",
        "df.describe()\n"
      ]
    },
    {
      "cell_type": "code",
      "execution_count": null,
      "metadata": {
        "colab": {
          "base_uri": "https://localhost:8080/",
          "height": 206
        },
        "id": "b3kvJhKbdX1R",
        "outputId": "3be41be9-587a-4320-8249-d0f35eff5364"
      },
      "outputs": [
        {
          "output_type": "execute_result",
          "data": {
            "text/plain": [
              "                                                text     label\n",
              "1  میں نے اسے 80 کی دہائی کے وسط میں ایک کیبل گائ...  positive\n",
              "2  چونکہ میں نے 80 کی دہائی میں انسپکٹر گیجٹ کارٹ...  negative\n",
              "3  ایک ایسے معاشرے کی حالت کے بارے میں تعجب کرتا ...  positive\n",
              "4  مفید البرٹ پیون کی طرف سے ایک اور ردی کی ٹوکری...  negative\n",
              "5  یہ کولمبو ہے جس کی ہدایتکاری اپنے کیریئر کے اب...  positive"
            ],
            "text/html": [
              "\n",
              "  <div id=\"df-ffab9621-0ed5-4cb9-8f44-43db17abdfb7\" class=\"colab-df-container\">\n",
              "    <div>\n",
              "<style scoped>\n",
              "    .dataframe tbody tr th:only-of-type {\n",
              "        vertical-align: middle;\n",
              "    }\n",
              "\n",
              "    .dataframe tbody tr th {\n",
              "        vertical-align: top;\n",
              "    }\n",
              "\n",
              "    .dataframe thead th {\n",
              "        text-align: right;\n",
              "    }\n",
              "</style>\n",
              "<table border=\"1\" class=\"dataframe\">\n",
              "  <thead>\n",
              "    <tr style=\"text-align: right;\">\n",
              "      <th></th>\n",
              "      <th>text</th>\n",
              "      <th>label</th>\n",
              "    </tr>\n",
              "  </thead>\n",
              "  <tbody>\n",
              "    <tr>\n",
              "      <th>1</th>\n",
              "      <td>میں نے اسے 80 کی دہائی کے وسط میں ایک کیبل گائ...</td>\n",
              "      <td>positive</td>\n",
              "    </tr>\n",
              "    <tr>\n",
              "      <th>2</th>\n",
              "      <td>چونکہ میں نے 80 کی دہائی میں انسپکٹر گیجٹ کارٹ...</td>\n",
              "      <td>negative</td>\n",
              "    </tr>\n",
              "    <tr>\n",
              "      <th>3</th>\n",
              "      <td>ایک ایسے معاشرے کی حالت کے بارے میں تعجب کرتا ...</td>\n",
              "      <td>positive</td>\n",
              "    </tr>\n",
              "    <tr>\n",
              "      <th>4</th>\n",
              "      <td>مفید البرٹ پیون کی طرف سے ایک اور ردی کی ٹوکری...</td>\n",
              "      <td>negative</td>\n",
              "    </tr>\n",
              "    <tr>\n",
              "      <th>5</th>\n",
              "      <td>یہ کولمبو ہے جس کی ہدایتکاری اپنے کیریئر کے اب...</td>\n",
              "      <td>positive</td>\n",
              "    </tr>\n",
              "  </tbody>\n",
              "</table>\n",
              "</div>\n",
              "    <div class=\"colab-df-buttons\">\n",
              "\n",
              "  <div class=\"colab-df-container\">\n",
              "    <button class=\"colab-df-convert\" onclick=\"convertToInteractive('df-ffab9621-0ed5-4cb9-8f44-43db17abdfb7')\"\n",
              "            title=\"Convert this dataframe to an interactive table.\"\n",
              "            style=\"display:none;\">\n",
              "\n",
              "  <svg xmlns=\"http://www.w3.org/2000/svg\" height=\"24px\" viewBox=\"0 -960 960 960\">\n",
              "    <path d=\"M120-120v-720h720v720H120Zm60-500h600v-160H180v160Zm220 220h160v-160H400v160Zm0 220h160v-160H400v160ZM180-400h160v-160H180v160Zm440 0h160v-160H620v160ZM180-180h160v-160H180v160Zm440 0h160v-160H620v160Z\"/>\n",
              "  </svg>\n",
              "    </button>\n",
              "\n",
              "  <style>\n",
              "    .colab-df-container {\n",
              "      display:flex;\n",
              "      gap: 12px;\n",
              "    }\n",
              "\n",
              "    .colab-df-convert {\n",
              "      background-color: #E8F0FE;\n",
              "      border: none;\n",
              "      border-radius: 50%;\n",
              "      cursor: pointer;\n",
              "      display: none;\n",
              "      fill: #1967D2;\n",
              "      height: 32px;\n",
              "      padding: 0 0 0 0;\n",
              "      width: 32px;\n",
              "    }\n",
              "\n",
              "    .colab-df-convert:hover {\n",
              "      background-color: #E2EBFA;\n",
              "      box-shadow: 0px 1px 2px rgba(60, 64, 67, 0.3), 0px 1px 3px 1px rgba(60, 64, 67, 0.15);\n",
              "      fill: #174EA6;\n",
              "    }\n",
              "\n",
              "    .colab-df-buttons div {\n",
              "      margin-bottom: 4px;\n",
              "    }\n",
              "\n",
              "    [theme=dark] .colab-df-convert {\n",
              "      background-color: #3B4455;\n",
              "      fill: #D2E3FC;\n",
              "    }\n",
              "\n",
              "    [theme=dark] .colab-df-convert:hover {\n",
              "      background-color: #434B5C;\n",
              "      box-shadow: 0px 1px 3px 1px rgba(0, 0, 0, 0.15);\n",
              "      filter: drop-shadow(0px 1px 2px rgba(0, 0, 0, 0.3));\n",
              "      fill: #FFFFFF;\n",
              "    }\n",
              "  </style>\n",
              "\n",
              "    <script>\n",
              "      const buttonEl =\n",
              "        document.querySelector('#df-ffab9621-0ed5-4cb9-8f44-43db17abdfb7 button.colab-df-convert');\n",
              "      buttonEl.style.display =\n",
              "        google.colab.kernel.accessAllowed ? 'block' : 'none';\n",
              "\n",
              "      async function convertToInteractive(key) {\n",
              "        const element = document.querySelector('#df-ffab9621-0ed5-4cb9-8f44-43db17abdfb7');\n",
              "        const dataTable =\n",
              "          await google.colab.kernel.invokeFunction('convertToInteractive',\n",
              "                                                    [key], {});\n",
              "        if (!dataTable) return;\n",
              "\n",
              "        const docLinkHtml = 'Like what you see? Visit the ' +\n",
              "          '<a target=\"_blank\" href=https://colab.research.google.com/notebooks/data_table.ipynb>data table notebook</a>'\n",
              "          + ' to learn more about interactive tables.';\n",
              "        element.innerHTML = '';\n",
              "        dataTable['output_type'] = 'display_data';\n",
              "        await google.colab.output.renderOutput(dataTable, element);\n",
              "        const docLink = document.createElement('div');\n",
              "        docLink.innerHTML = docLinkHtml;\n",
              "        element.appendChild(docLink);\n",
              "      }\n",
              "    </script>\n",
              "  </div>\n",
              "\n",
              "\n",
              "<div id=\"df-73791b82-93fc-440f-accf-7988ae509f8b\">\n",
              "  <button class=\"colab-df-quickchart\" onclick=\"quickchart('df-73791b82-93fc-440f-accf-7988ae509f8b')\"\n",
              "            title=\"Suggest charts\"\n",
              "            style=\"display:none;\">\n",
              "\n",
              "<svg xmlns=\"http://www.w3.org/2000/svg\" height=\"24px\"viewBox=\"0 0 24 24\"\n",
              "     width=\"24px\">\n",
              "    <g>\n",
              "        <path d=\"M19 3H5c-1.1 0-2 .9-2 2v14c0 1.1.9 2 2 2h14c1.1 0 2-.9 2-2V5c0-1.1-.9-2-2-2zM9 17H7v-7h2v7zm4 0h-2V7h2v10zm4 0h-2v-4h2v4z\"/>\n",
              "    </g>\n",
              "</svg>\n",
              "  </button>\n",
              "\n",
              "<style>\n",
              "  .colab-df-quickchart {\n",
              "      --bg-color: #E8F0FE;\n",
              "      --fill-color: #1967D2;\n",
              "      --hover-bg-color: #E2EBFA;\n",
              "      --hover-fill-color: #174EA6;\n",
              "      --disabled-fill-color: #AAA;\n",
              "      --disabled-bg-color: #DDD;\n",
              "  }\n",
              "\n",
              "  [theme=dark] .colab-df-quickchart {\n",
              "      --bg-color: #3B4455;\n",
              "      --fill-color: #D2E3FC;\n",
              "      --hover-bg-color: #434B5C;\n",
              "      --hover-fill-color: #FFFFFF;\n",
              "      --disabled-bg-color: #3B4455;\n",
              "      --disabled-fill-color: #666;\n",
              "  }\n",
              "\n",
              "  .colab-df-quickchart {\n",
              "    background-color: var(--bg-color);\n",
              "    border: none;\n",
              "    border-radius: 50%;\n",
              "    cursor: pointer;\n",
              "    display: none;\n",
              "    fill: var(--fill-color);\n",
              "    height: 32px;\n",
              "    padding: 0;\n",
              "    width: 32px;\n",
              "  }\n",
              "\n",
              "  .colab-df-quickchart:hover {\n",
              "    background-color: var(--hover-bg-color);\n",
              "    box-shadow: 0 1px 2px rgba(60, 64, 67, 0.3), 0 1px 3px 1px rgba(60, 64, 67, 0.15);\n",
              "    fill: var(--button-hover-fill-color);\n",
              "  }\n",
              "\n",
              "  .colab-df-quickchart-complete:disabled,\n",
              "  .colab-df-quickchart-complete:disabled:hover {\n",
              "    background-color: var(--disabled-bg-color);\n",
              "    fill: var(--disabled-fill-color);\n",
              "    box-shadow: none;\n",
              "  }\n",
              "\n",
              "  .colab-df-spinner {\n",
              "    border: 2px solid var(--fill-color);\n",
              "    border-color: transparent;\n",
              "    border-bottom-color: var(--fill-color);\n",
              "    animation:\n",
              "      spin 1s steps(1) infinite;\n",
              "  }\n",
              "\n",
              "  @keyframes spin {\n",
              "    0% {\n",
              "      border-color: transparent;\n",
              "      border-bottom-color: var(--fill-color);\n",
              "      border-left-color: var(--fill-color);\n",
              "    }\n",
              "    20% {\n",
              "      border-color: transparent;\n",
              "      border-left-color: var(--fill-color);\n",
              "      border-top-color: var(--fill-color);\n",
              "    }\n",
              "    30% {\n",
              "      border-color: transparent;\n",
              "      border-left-color: var(--fill-color);\n",
              "      border-top-color: var(--fill-color);\n",
              "      border-right-color: var(--fill-color);\n",
              "    }\n",
              "    40% {\n",
              "      border-color: transparent;\n",
              "      border-right-color: var(--fill-color);\n",
              "      border-top-color: var(--fill-color);\n",
              "    }\n",
              "    60% {\n",
              "      border-color: transparent;\n",
              "      border-right-color: var(--fill-color);\n",
              "    }\n",
              "    80% {\n",
              "      border-color: transparent;\n",
              "      border-right-color: var(--fill-color);\n",
              "      border-bottom-color: var(--fill-color);\n",
              "    }\n",
              "    90% {\n",
              "      border-color: transparent;\n",
              "      border-bottom-color: var(--fill-color);\n",
              "    }\n",
              "  }\n",
              "</style>\n",
              "\n",
              "  <script>\n",
              "    async function quickchart(key) {\n",
              "      const quickchartButtonEl =\n",
              "        document.querySelector('#' + key + ' button');\n",
              "      quickchartButtonEl.disabled = true;  // To prevent multiple clicks.\n",
              "      quickchartButtonEl.classList.add('colab-df-spinner');\n",
              "      try {\n",
              "        const charts = await google.colab.kernel.invokeFunction(\n",
              "            'suggestCharts', [key], {});\n",
              "      } catch (error) {\n",
              "        console.error('Error during call to suggestCharts:', error);\n",
              "      }\n",
              "      quickchartButtonEl.classList.remove('colab-df-spinner');\n",
              "      quickchartButtonEl.classList.add('colab-df-quickchart-complete');\n",
              "    }\n",
              "    (() => {\n",
              "      let quickchartButtonEl =\n",
              "        document.querySelector('#df-73791b82-93fc-440f-accf-7988ae509f8b button');\n",
              "      quickchartButtonEl.style.display =\n",
              "        google.colab.kernel.accessAllowed ? 'block' : 'none';\n",
              "    })();\n",
              "  </script>\n",
              "</div>\n",
              "    </div>\n",
              "  </div>\n"
            ],
            "application/vnd.google.colaboratory.intrinsic+json": {
              "type": "dataframe",
              "variable_name": "df",
              "summary": "{\n  \"name\": \"df\",\n  \"rows\": 50000,\n  \"fields\": [\n    {\n      \"column\": \"text\",\n      \"properties\": {\n        \"dtype\": \"string\",\n        \"num_unique_values\": 49578,\n        \"samples\": [\n          \"\\u0627\\u06cc\\u06a9 \\u0627\\u0648\\u0631 \\u0639\\u0645\\u062f\\u06c1 \\u0627\\u062e\\u0644\\u0627\\u0642\\u06cc \\u0627\\u0628\\u06c1\\u0627\\u0645 \\u06a9\\u06d2 \\u0679\\u06a9\\u0691\\u06d2 \\u062c\\u06c1\\u0627\\u06ba \\u0627\\u06cc\\u0646\\u0679\\u06cc \\u06c1\\u06cc\\u0631\\u0648 \\u0646\\u06d2 \\u06cc\\u06c1 \\u0641\\u06cc\\u0635\\u0644\\u06c1 \\u06a9\\u0631\\u0646\\u0627 \\u0645\\u0634\\u06a9\\u0644 \\u0628\\u0646\\u0627 \\u062f\\u06cc\\u0627 \\u06c1\\u06d2 \\u06a9\\u06c1 \\u06a9\\u0633 \\u06a9\\u06cc \\u062c\\u0691 \\u06a9\\u0648 \\u062e\\u062a\\u0645 \\u06a9\\u0631\\u0646\\u0627 \\u06c1\\u06d2\\u06d4 \\u0627\\u06af\\u0631 \\u06a9\\u0686\\u06be \\u0627\\u0648\\u0631 \\u0646\\u06c1\\u06cc\\u06ba \\u062a\\u0648 \\\"\\u062f\\u06cc \\u0628\\u06cc\\u06af\\u0644\\u06cc\\u0688\\\" \\u0646\\u06d2 \\u06a9\\u0633\\u06cc \\u06a9\\u0648 \\u062e\\u0627\\u0645\\u0648\\u0634 \\u06a9\\u0631\\u0627\\u062f\\u06cc\\u0627 \\u062c\\u0633 \\u0646\\u06d2 \\u06a9\\u06c1\\u0627 \\u062a\\u06be\\u0627 \\u06a9\\u06c1 \\u0641\\u0644\\u0645\\u0648\\u06ba \\u0645\\u06cc\\u06ba \\u0627\\u062f\\u0627\\u06a9\\u0627\\u0631\\u06c1 \\u06a9\\u06d2 \\u0644\\u0626\\u06d2 \\u06a9\\u0648\\u0626\\u06cc \\u0627\\u0686\\u06be\\u06d2 \\u062d\\u0635\\u06d2 \\u0646\\u06c1\\u06cc\\u06ba \\u062a\\u06be\\u06d2\\u06d4 \\u06a9\\u0645 \\u0627\\u0632 \\u06a9\\u0645 1971 \\u0645\\u06cc\\u06ba\\u06d4 \\u0686\\u0627\\u0631 \\u062a\\u06be\\u06d2 \\u0627\\u0633 \\u0641\\u0644\\u0645 \\u0645\\u06cc\\u06ba \\u0627\\u062f\\u0627\\u06a9\\u0627\\u0631\\u06c1 \\u06a9\\u06d2 \\u0644\\u0626\\u06d2 \\u0639\\u0645\\u062f\\u06c1 \\u062d\\u0635\\u06d2 \\u0627\\u0648\\u0631 \\u0633\\u0628 \\u06a9\\u0648 \\u0627\\u0686\\u06be\\u06cc \\u0637\\u0631\\u062d \\u0633\\u06d2 \\u06a9\\u0627\\u0633\\u0679 \\u06a9\\u06cc\\u0627 \\u06af\\u06cc\\u0627 \\u062a\\u06be\\u0627 \\u0627\\u0648\\u0631 \\u0627\\u0686\\u06be\\u06cc \\u0637\\u0631\\u062d \\u0633\\u06d2 \\u067e\\u06be\\u0627\\u0646\\u0633\\u06cc \\u062f\\u06cc \\u06af\\u0626\\u06cc \\u062a\\u06be\\u06cc\\u06d4 \\u067e\\u0627\\u0645\\u06cc\\u0646 \\u0641\\u0631\\u0688\\u06cc\\u0646 \\u0646\\u06d2 \\u0627\\u0645\\u06cc \\u06a9\\u06cc \\u062d\\u06cc\\u062b\\u06cc\\u062a \\u0633\\u06d2 \\u0639\\u0645\\u062f\\u06c1 \\u06a9\\u0627\\u0645 \\u06a9\\u06cc\\u0627 \\u062a\\u06be\\u0627 \\u0627\\u0648\\u0631 \\u0648\\u06c1 \\\"\\u0648\\u0627\\u0646\\u0688\\u0627 \\u062c\\u0648\\u0646\\\" \\u0627\\u062f\\u0627 \\u06a9\\u0631\\u06cc\\u06ba \\u06af\\u06cc\\u06d4 \\u06cc\\u06c1 \\u067e\\u06c1\\u0644\\u0627 \\u0645\\u0648\\u0642\\u0639 \\u06c1\\u0648\\u06af\\u0627 \\u062c\\u0628 \\u06a9\\u0633\\u06cc \\u0628\\u0627\\u0644\\u063a \\u0645\\u0631\\u062f \\u0628\\u0627\\u06a9\\u0633 \\u0622\\u0641\\u0633 \\u0627\\u0633\\u0679\\u0627\\u0631 \\u0646\\u06d2 \\u0628\\u0627\\u0631\\u06c1 \\u0633\\u0627\\u0644\\u06c1 \\u0644\\u0691\\u06a9\\u06cc \\u06a9\\u06d2 \\u0633\\u0627\\u062a\\u06be \\u06a9\\u06cc\\u0645\\u0631\\u06d2 \\u0645\\u06cc\\u06ba \\u062a\\u0648\\u0633\\u06cc\\u0639 \\u0634\\u062f\\u06c1 \\u0628\\u0648\\u0633\\u06c1 \\u0628\\u0627\\u0646\\u0679\\u0627 \\u060c \\u062d\\u06cc\\u0631\\u062a \\u06c1\\u06d2 \\u06a9\\u06c1 \\u06a9\\u06cc\\u0627 \\u0627\\u0633 \\u0648\\u0642\\u062a \\u0627\\u0633 \\u0628\\u0627\\u0631\\u06d2 \\u0645\\u06cc\\u06ba \\u0632\\u06cc\\u0627\\u062f\\u06c1 \\u062a\\u0646\\u0627\\u0632\\u0639\\u06c1 \\u062a\\u06be\\u0627\\u06d4 \\u06cc\\u06c1 \\u0634\\u0627\\u06cc\\u062f \\u067e\\u0648\\u0644\\u0627\\u0646\\u0633\\u06a9\\u06cc \\u06a9\\u0627 \\u067e\\u0633\\u0646\\u062f\\u06cc\\u062f\\u06c1 \\u0645\\u0646\\u0638\\u0631 \\u062a\\u06be\\u0627\\u06d4 \\u0627\\u0645\\u06cc \\u06a9\\u06d2 \\u06a9\\u0686\\u06be\\u06cc \\\"\\u0631\\u06cc\\u0646\\u0688\\u0648\\u0644\\u0641\\\" \\u06a9\\u06cc \\u062a\\u0642\\u062f\\u06cc\\u0631 \\u06a9\\u0648 \\u062f\\u06cc\\u06a9\\u06be\\u062a\\u06d2 \\u06c1\\u0648\\u0626\\u06d2 \\u060c \\u06cc\\u06c1 \\u06a9\\u0648\\u0626\\u06cc \\u062a\\u0639\\u062c\\u0628 \\u06a9\\u06cc \\u0628\\u0627\\u062a \\u0646\\u06c1\\u06cc\\u06ba \\u06c1\\u06d2 \\u06a9\\u06c1 \\u0641\\u0631\\u0688\\u06cc\\u0646 \\u0628\\u0691\\u06d2 \\u062c\\u0627\\u0646\\u0648\\u0631\\u0648\\u06ba \\u06a9\\u06d2 \\u062d\\u0642\\u0648\\u0642 \\u06a9\\u06d2 \\u0644\\u0626\\u06d2 \\u0633\\u0631\\u06af\\u0631\\u0645 \\u06a9\\u0627\\u0631\\u06a9\\u0646 \\u0628\\u0646 \\u06a9\\u0631 \\u0628\\u0691\\u06be\\u0627 \\u06c1\\u06d2\\u06d4 \\u062c\\u06cc\\u0631\\u0627\\u0644\\u0688\\u0627\\u0626\\u0646 \\u067e\\u06cc\\u062c \\u0628\\u06be\\u06cc \\u0627\\u0633\\u06cc \\u0637\\u0631\\u062d \\u0627\\u06cc\\u06a9 \\u0628\\u06c1\\u062a\\u0631\\u06cc\\u0646 \\u067e\\u06cc\\u0686\\u06cc\\u062f\\u06c1 \\u06a9\\u0631\\u062f\\u0627\\u0631 \\u0627\\u062f\\u0627 \\u06a9\\u0631\\u0631\\u06c1\\u0627 \\u062a\\u06be\\u0627 \\u060c \\u062c\\u0633 \\u0645\\u06cc\\u06ba \\u0635\\u0631\\u0641 \\u0635\\u062d\\u06cc\\u062d \\u0645\\u0642\\u062f\\u0627\\u0631 \\u0645\\u06cc\\u06ba \\u062a\\u062d\\u0645\\u0644 \\u062a\\u06be\\u0627\\u06d4 \\u06cc\\u06c1 \\u062f\\u0644\\u0686\\u0633\\u067e \\u0628\\u0627\\u062a \\u06c1\\u06d2 \\u06a9\\u06c1 \\u0627\\u0644\\u0632\\u0628\\u062a\\u06be \\u06c1\\u0627\\u0631\\u0679 \\u0645\\u06cc\\u0646 \\u0646\\u06d2 \\u062e\\u0648\\u062f\\u06a9\\u0634\\u06cc \\u06a9\\u06d2 \\u0635\\u0631\\u0641 \\u062a\\u06cc\\u0646 \\u062f\\u0646 \\u0628\\u0639\\u062f (\\u067e\\u0627\\u0646\\u0686\\u0648\\u06cc\\u06ba \\u0645\\u0646\\u0632\\u0644 \\u06a9\\u06cc \\u06a9\\u06be\\u0691\\u06a9\\u06cc \\u0633\\u06d2 \\u062e\\u0648\\u062f \\u06a9\\u0648 \\u067e\\u06be\\u06cc\\u0646\\u06a9\\u062a\\u06d2 \\u06c1\\u0648\\u0626\\u06d2) \\u0627\\u0633 \\u06a9\\u06cc \\u0645\\u0648\\u062a \\u06c1\\u0648\\u06af\\u0626\\u06cc \\u06a9\\u06cc\\u0648\\u0646\\u06a9\\u06c1 \\u0627\\u0646\\u06c1\\u0648\\u06ba \\u0646\\u06d2 \\\"\\u062a\\u0645 \\u0627\\u06cc\\u06a9 \\u0628\\u0691\\u06d2 \\u0644\\u0691\\u06a9\\u06d2 \\u0627\\u0628\\\" \\u0645\\u06cc\\u06ba \\u0628\\u06be\\u06cc \\u0627\\u06cc\\u06a9 \\u0633\\u0627\\u062a\\u06be \\u06a9\\u0627\\u0645 \\u06a9\\u06cc\\u0627 \\u062a\\u06be\\u0627\\u06d4 \\u06c1\\u0627\\u0631\\u0679 \\u0645\\u06cc\\u0646 (\\u062c\\u0648 \\u0627\\u06cc\\u0633\\u0627 \\u0644\\u06af\\u062a\\u0627 \\u06c1\\u06d2 \\u06a9\\u06c1 \\u0648\\u06c1 \\u0628\\u0644\\u06cc\\u0626\\u0631 \\u0628\\u0631\\u0627\\u0624\\u0646 \\u06a9\\u06cc \\u06c1\\u06cc \\u06c1\\u0648\\u0633\\u06a9\\u062a\\u06cc \\u06c1\\u06d2\\u06d4 \\u0628\\u06c1\\u0646) \\u0627\\u06cc\\u0688\\u0648\\u06cc\\u0646\\u0627 \\u06a9\\u06cc \\u0637\\u0631\\u062d \\u062d\\u06cc\\u0631\\u062a \\u0627\\u0646\\u06af\\u06cc\\u0632 \\u062a\\u06be\\u06cc\\u06ba \\u0627\\u0648\\u0631 \\u0627\\u0633\\u06d2 \\u0622\\u0633\\u06a9\\u0631 \\u0645\\u0644\\u0646\\u0627 \\u0686\\u0627\\u06c1\\u0626\\u06d2 \\u062a\\u06be\\u0627 (\\u0627\\u0633 \\u0633\\u0627\\u0644 \\u06a9\\u06cc \\u06a9\\u0648\\u0626\\u06cc \\u0627\\u0648\\u0631 \\u06a9\\u0627\\u0631\\u06a9\\u0631\\u062f\\u06af\\u06cc \\u0642\\u0631\\u06cc\\u0628 \\u0646\\u06c1\\u06cc\\u06ba \\u062a\\u06be\\u06cc) \\u060c \\u0644\\u06cc\\u06a9\\u0646 \\u0627\\u0628 \\u06c1\\u0645\\u06cc\\u06ba \\u0627\\u0633 \\u06a9\\u06d2 \\u0628\\u0627\\u0631\\u06d2 \\u0645\\u06cc\\u06ba \\u06a9\\u06cc\\u0627 \\u067e\\u062a\\u06c1 \\u06c1\\u06d2 \\u0622\\u067e \\u06a9\\u0648 \\u062d\\u06cc\\u0631\\u062a \\u06c1\\u0648\\u06af\\u06cc \\u06a9\\u06c1 \\u0627\\u0633 \\u06a9\\u06cc \\u06a9\\u0627\\u0631\\u06a9\\u0631\\u062f\\u06af\\u06cc \\u06a9\\u0627 \\u06a9\\u062a\\u0646\\u0627 \\u0645\\u0637\\u0627\\u0644\\u0639\\u06c1 \\u06a9\\u06cc \\u06a9\\u0648\\u0634\\u0634 \\u062a\\u06be\\u06cc \\u0627\\u0648\\u0631 \\u06a9\\u062a\\u0646\\u0627 \\u0627\\u0646\\u062f\\u0631 \\u0633\\u06d2 \\u0622\\u06cc\\u0627 \\u062a\\u06be\\u0627\\u06d4 \\u0627\\u0633\\u06d2 \\u0627\\u06cc\\u0688\\u0648\\u06cc\\u0646\\u0627 \\u0627\\u0633 \\u0637\\u0631\\u062d \\u06a9\\u06d2 \\u06a9\\u0686\\u06d2 \\u062f\\u0631\\u062f \\u06a9\\u0648 \\u062f\\u06a9\\u06be\\u0627\\u062a\\u06cc \\u06c1\\u06d2 \\u06a9\\u06c1 \\u062f\\u06cc\\u06a9\\u06be\\u0646\\u0627 \\u0645\\u0634\\u06a9\\u0644 \\u06c1\\u06d2\\u06d4 \\\"\\u062f\\u06cc \\u063a\\u0644\\u0637\\u06cc\\u0627\\u06ba\\\" \\u0645\\u06cc\\u06ba \\u0645\\u0627\\u0631\\u0644\\u0646 \\u0645\\u0646\\u0631\\u0648 \\u06a9\\u06cc \\u0646\\u0627\\u0642\\u0627\\u0628\\u0644 \\u06cc\\u0642\\u06cc\\u0646 \\u0627\\u062f\\u0627\\u06a9\\u0627\\u0631\\u06cc \\u06a9\\u06cc \\u0637\\u0631\\u062d \\u060c \\u0646\\u0627\\u0638\\u0631\\u06cc\\u0646 \\u0628\\u06be\\u06cc \\u0627\\u067e\\u0646\\u06d2 \\u06a9\\u0631\\u062f\\u0627\\u0631 \\u0645\\u06cc\\u06ba \\u062c\\u0648 \\u06a9\\u0631\\u062f\\u0627\\u0631 \\u0627\\u062f\\u0627 \\u06a9\\u0631\\u0631\\u06c1\\u06d2 \\u06c1\\u06cc\\u06ba \\u0627\\u0633 \\u0645\\u06cc\\u06ba \\u0627\\u0646 \\u06a9\\u06d2 \\u0627\\u067e\\u0646\\u06d2 \\u0628\\u06c1\\u062a \\u0633\\u06d2 \\u0634\\u06cc\\u0637\\u0627\\u0646 \\u0628\\u06be\\u06cc \\u0646\\u0638\\u0631 \\u0622\\u0631\\u06c1\\u06d2 \\u06c1\\u06cc\\u06ba\\u06d4 \\u0622\\u062e\\u0631\\u06a9\\u0627\\u0631 \\u062c\\u0648 \\u0627\\u06cc\\u0646 \\u06c1\\u06cc\\u0631\\u06cc\\u0633 \\u0628\\u06be\\u06cc \\u06c1\\u06d2 \\u062c\\u0648 \\u062d\\u06cc\\u0631\\u062a \\u0627\\u0646\\u06af\\u06cc\\u0632 \\u0637\\u0648\\u0631 \\u067e\\u0631 \\u06a9\\u0627\\u0645\\u0644 \\u0637\\u0648\\u0631 \\u067e\\u0631 \\u06a9\\u0627\\u0645\\u0644 \\u06c1\\u06d2\\u06d4 \\u0645\\u06cc\\u0631\\u06d2 \\u067e\\u06cc\\u0633\\u06d2 \\u06a9\\u06d2 \\u0644\\u0626\\u06d2 \\u06c1\\u06cc\\u0631\\u06cc\\u0633 1970 \\u06a9\\u06cc \\u062f\\u06c1\\u0627\\u0626\\u06cc \\u06a9\\u06cc \\u0633\\u0628 \\u0633\\u06d2 \\u0633\\u06cc\\u06a9\\u0633\\u06cc \\u0627\\u062f\\u0627\\u06a9\\u0627\\u0631\\u06c1 \\u062a\\u06be\\u06cc \\u060c \\u062c\\u0633 \\u0646\\u06d2 \\u0630\\u06c1\\u0627\\u0646\\u062a \\u0627\\u0648\\u0631 \\u0645\\u0632\\u0627\\u062d \\u06a9\\u06d2 \\u0633\\u0627\\u062a\\u06be \\u0627\\u0645\\u062a\\u06cc\\u0627\\u0632\\u06cc \\u0633\\u0644\\u0648\\u06a9 \\u06a9\\u0648 \\u062c\\u0648\\u0691 \\u062f\\u06cc\\u0627 \\u062a\\u06be\\u0627\\u06d4 \\u0648\\u06c1 \\\"\\u0633\\u0628 \\u0633\\u06d2 \\u0632\\u06cc\\u0627\\u062f\\u06c1 \\u0645\\u0637\\u0644\\u0648\\u0628\\\" \\u0679\\u06cc\\u0644\\u06cc \\u0648\\u06cc\\u0698\\u0646 \\u0633\\u06cc\\u0631\\u06cc\\u0632 \\u062f\\u06cc\\u06a9\\u06be\\u0646\\u06d2 \\u06a9\\u06cc \\u0628\\u06c1\\u062a\\u0631\\u06cc\\u0646 \\u0648\\u062c\\u06c1 \\u062a\\u06be\\u06cc \\u0627\\u0648\\u0631 \\\"\\u0648\\u0627\\u0626\\u0644\\u0688 \\u0648\\u0627\\u0626\\u0644\\u0688 \\u0648\\u06cc\\u0633\\u0679 \\u0631\\u06cc\\u0648\\u06cc\\u0648\\u0634\\u0679\\u0688\\\" \\u062f\\u06cc\\u06a9\\u06be\\u0646\\u06d2 \\u06a9\\u06cc \\u0648\\u0627\\u062d\\u062f \\u0648\\u062c\\u06c1 \\u062a\\u06be\\u06cc\\u06d4 \\u06cc\\u06c1 \\u06cc\\u0642\\u06cc\\u0646 \\u06a9\\u0631\\u0646\\u0627 \\u0645\\u0634\\u06a9\\u0644 \\u06c1\\u06d2 \\u06a9\\u06c1 \\u06a9\\u0648\\u0626\\u06cc \\u0627\\u06cc\\u0633\\u0627 \\u0634\\u062e\\u0635 \\u062c\\u0648 \\u06cc\\u06c1 \\u0633\\u0628 \\u06a9\\u0686\\u06be \\u0627\\u0633\\u06a9\\u0631\\u06cc\\u0646 \\u067e\\u0631 \\u0644\\u0627 \\u0633\\u06a9\\u062a\\u0627 \\u06c1\\u06d2 \\u0648\\u06c1 \\u06a9\\u0628\\u06be\\u06cc \\u0628\\u06be\\u06cc \\u0628\\u0691\\u0627 \\u0627\\u0633\\u0679\\u0627\\u0631 \\u0646\\u06c1\\u06cc\\u06ba \\u0628\\u0646 \\u0633\\u06a9\\u0627\\u06d4\",\n          \"\\u0645\\u06cc\\u0631\\u0627 \\u0627\\u0646\\u062f\\u0627\\u0632\\u06c1 \\u06c1\\u06d2 \\u06a9\\u06c1 \\u0688\\u06cc \\u0648\\u06cc \\u0688\\u06cc \\u06a9\\u06d2 \\u062e\\u062a\\u0645 \\u06c1\\u0648\\u0646\\u06d2 \\u06a9\\u06d2 \\u0633\\u0627\\u062a\\u06be \\u06c1\\u06cc \\u06cc\\u06c1 \\u0639\\u0648\\u0627\\u0645\\u06cc \\u0688\\u0648\\u0645\\u06cc\\u0646 \\u0645\\u06cc\\u06ba \\u06c1\\u06d2\\u06d4 \\u0633\\u0628 \\u0633\\u06d2 \\u067e\\u06c1\\u0644\\u06d2 \\u060c \\u06cc\\u06c1 \\u0627\\u06cc\\u06a9 \\u0627\\u0686\\u06be audience\\u0627 \\u0627\\u0686\\u06be\\u0627 \\u067e\\u0631\\u0648\\u067e\\u06cc\\u06af\\u0646\\u0688\\u0627 \\u0641\\u0644\\u0645 \\u06c1\\u06d2 \\u062c\\u0648 \\u062c\\u0646\\u06af \\u06a9\\u06d2 \\u0648\\u0642\\u062a \\u06a9\\u06d2 \\u0622\\u0633\\u06cc\\u06c1 \\u0633\\u0627\\u0645\\u0639\\u06cc\\u0646 \\u06a9\\u0648 \\u062f\\u06a9\\u06be\\u0627\\u06cc\\u0627 \\u062c\\u0627\\u0626\\u06d2 \\u060c \\u0644\\u06c1\\u0630\\u0627 \\u0627\\u0633\\u06d2 \\u0679\\u0648\\u0628\\u0631\\u0648\\u06a9 \\u06a9\\u06cc \\u0633\\u0646\\u062c\\u06cc\\u062f\\u06c1 \\u0628\\u0627\\u062a \\u067e\\u0631 \\u063a\\u0648\\u0631 \\u0646\\u06c1\\u06cc\\u06ba \\u06a9\\u06cc\\u0627 \\u062c\\u0627\\u0626\\u06d2 \\u06af\\u0627\\u06d4 \\u0622\\u0633\\u0679\\u0631\\u06cc\\u0644\\u06cc\\u0627 \\u0645\\u06cc\\u06ba 3/4 \\u06a9\\u0627 \\u067e\\u06c1\\u0644\\u0627 \\u0646\\u0635\\u0641 \\u062d\\u0635 dry\\u06c1 \\u0628\\u06c1\\u062a \\u062e\\u0634\\u06a9 \\u0633\\u0627\\u0645\\u0627\\u0646 \\u06c1\\u06d2 \\u060c \\u0645\\u062c\\u06be\\u06d2 \\u0644\\u06af\\u062a\\u0627 \\u06c1\\u06d2 \\u06a9\\u06c1 \\u0628\\u06c1\\u062a \\u0633\\u0627\\u0631\\u06cc \\u0627\\u0645\\u0631\\u06cc\\u06a9\\u06cc \\u062c\\u0646\\u06af\\u06cc \\u0641\\u0644\\u0645\\u06cc\\u06ba \\u06c1\\u06cc\\u06ba \\u062c\\u06c1\\u0627\\u06ba \\u0628\\u06be\\u0631\\u062a\\u06cc \\u06c1\\u0648 \\u0631\\u06c1\\u06d2 \\u06c1\\u06cc\\u06ba \\u060c \\u0627\\u0648\\u06c1 \\u0627\\u0646\\u0633\\u0627\\u0646 \\u0627\\u0633 \\u06a9\\u06cc \\u0644\\u0645\\u0628\\u06cc \\u0644\\u0645\\u0628\\u06cc \\u0644\\u0645\\u0628\\u06cc \\u062c\\u06af\\u06c1 \\u06c1\\u06d2\\u06d4 \\u06c1\\u0645 \\u0627\\u0641\\u0631\\u06cc\\u0642\\u06c1 \\u0627\\u0648\\u0631 \\u0679\\u0648\\u0628\\u0631\\u0648\\u06a9 \\u062c\\u0627\\u0646\\u06d2 \\u0633\\u06d2 \\u060c \\u0628\\u06c1\\u062a \\u06a9\\u0645 \\u060c \\u06a9\\u0645 \\u0628\\u062c\\u0679 \\u0648\\u0627\\u0644\\u06cc \\u0686\\u06cc\\u0632\\u06cc\\u06ba\\u06d4 \\u0645\\u06cc\\u06ba \\u0646\\u06d2 \\u062f\\u06cc\\u06a9\\u06be\\u0627 \\u0688\\u06cc \\u0648\\u06cc \\u0688\\u06cc \\u06a9\\u0627\\u067e\\u06cc \\u067e\\u0631 \\u062c\\u0646\\u06af \\u06a9\\u06d2 \\u0645\\u0646\\u0627\\u0638\\u0631 \\u062a\\u0642\\u0631\\u06cc\\u0628\\u0627 \\u0645\\u06a9\\u0645\\u0644 \\u0637\\u0648\\u0631 \\u067e\\u0631 \\u06a9\\u0627\\u0644\\u06d2 \\u062a\\u06be\\u06d2\\u06d4 \\u0627\\u06af\\u0631 \\u0622\\u067e \\u06a9\\u0648 \\u0644\\u0627\\u0632\\u0645\\u06cc \\u06c1\\u06d2 \\u062a\\u0648 \\u0627\\u0633\\u06d2 \\u062f\\u06cc\\u06a9\\u06be\\u06cc\\u06ba \\u060c \\u0644\\u06cc\\u06a9\\u0646 \\u062a\\u06cc\\u0632\\u06cc \\u0633\\u06d2 \\u0622\\u06af\\u06d2 \\u0627\\u0633\\u062a\\u0639\\u0645\\u0627\\u0644 \\u06a9\\u0631\\u0646\\u06d2 \\u06a9\\u06d2 \\u0644. \\u062a\\u06cc\\u0627\\u0631 \\u0631\\u06c1\\u06cc\\u06ba \\u06a9\\u06cc\\u0648\\u0646\\u06a9\\u06c1 \\u0645\\u062c\\u06be\\u06d2 \\u0634\\u06a9 \\u06c1\\u06d2 \\u06a9\\u06c1 \\u0622\\u067e \\u0627\\u0633\\u06d2 \\u0686\\u0646\\u062f \\u0645\\u0646\\u0679 \\u0628\\u0639\\u062f \\u06c1\\u06cc \\u0644\\u06d2 \\u0633\\u06a9\\u062a\\u06d2 \\u06c1\\u06cc\\u06ba\\u06d4 \\u0645\\u062c\\u06be\\u06d2 \\u062e\\u0648\\u0634\\u06af\\u0648\\u0627\\u0631 \\u0627\\u0637\\u0627\\u0644\\u0648\\u06cc \\\"\\u0628\\u0679 \\u0622\\u0641 \\u0627\\u0644 \\u0627\\u0644\\u0627\\u0645\\u06cc\\u0646\\\" \\u0633\\u06d2 \\u0644\\u0637\\u0641 \\u0627\\u0646\\u062f\\u0648\\u0632 \\u06c1\\u0648\\u0627 \\u060c \\u0631\\u0686\\u0631\\u0688 \\u0628\\u0631\\u0679\\u0646 \\u0646\\u06d2 \\u0627\\u06cc\\u06a9 \\u0627\\u0641\\u0631\\u06cc\\u0642\\u06cc \\u062a\\u06be\\u06cc\\u0679\\u0631 \\u0648\\u0627\\u0631 \\u0628\\u06be\\u06cc \\u06a9\\u06cc\\u0627 \\u062c\\u0648 \\u0627\\u0686\\u06be\\u06cc \\u0637\\u0631\\u062d \\u0633\\u06d2 \\\"\\u062f\\u06cc \\u0635\\u062d\\u0631\\u0627 \\u0686\\u0648\\u06c1\\u06d2\\\" \\u06a9\\u06cc \\u0641\\u0644\\u0645 \\u062a\\u06be\\u06cc \\u060c \\u06cc\\u06c1 \\u0641\\u0644\\u0645 \\u0645\\u062d\\u0636 \\u0627\\u06cc\\u06a9 \\u062d\\u0642\\u06cc\\u0642\\u06cc \\u0645\\u062f\\u062a \\u06c1\\u06d2 \\u0627\\u0648\\u0631 \\u0627\\u0633 \\u0648\\u0642\\u062a \\u062a\\u06a9 \\u06cc\\u06c1 \\u0631\\u06c1\\u0646\\u0627 \\u0686\\u0627\\u06c1\\u0626\\u06d2 \\u062a\\u06be\\u0627\\u06d4 \\u0622\\u062c \\u0627\\u0686\\u06be\\u06cc \\u0637\\u0631\\u062d \\u0633\\u06d2 \\u0628\\u0631\\u0642\\u0631\\u0627\\u0631 \\u0646\\u06c1\\u06cc\\u06ba \\u0631\\u06c1\\u062a\\u0627 \\u06c1\\u06d2 (\\u0645\\u062c\\u06be\\u06d2 \\u0634\\u0628\\u06c1 \\u06c1\\u06d2 \\u06a9\\u06c1 \\u0627\\u0633 \\u0648\\u0642\\u062a \\u0628\\u06be\\u06cc \\u0627\\u0633 \\u06a9\\u0627 \\u0627\\u0646\\u062a\\u06c1\\u0627\\u0626\\u06cc \\u0644\\u062d\\u0627\\u0638 \\u06a9\\u06cc\\u0627 \\u062c\\u0627\\u062a\\u0627 \\u062a\\u06be\\u0627)\\u06d4 \\u0645\\u06cc\\u06ba \\u0627\\u067e\\u0646\\u06d2 \\u0627\\u0645\\u0631\\u06cc\\u06a9\\u06cc \\u06c1\\u0645 \\u0645\\u0646\\u0635\\u0628 \\u06a9\\u06d2 \\u062c\\u0646\\u06af\\u06cc \\u0637\\u0631\\u0642\\u0648\\u06ba \\u06a9\\u06d2 \\u0628\\u0627\\u0631\\u06d2 \\u0645\\u06cc\\u06ba \\u0628\\u06be\\u06cc \\u06cc\\u06c1\\u06cc \\u0628\\u0627\\u062a \\u06a9\\u06c1\\u062a\\u0627 \\u06c1\\u0648\\u06ba \\u0644\\u06c1\\u0630\\u0627 \\u0627\\u0633\\u06d2 \\u0630\\u0627\\u062a\\u06cc \\u0637\\u0648\\u0631 \\u067e\\u0631 \\u0622\\u0633\\u06cc\\u0633 \\u0633\\u06d2 \\u0645\\u062a \\u0644\\u06cc\\u06ba (\\u0645\\u06cc\\u06ba \\u0622\\u0633\\u0679\\u0631\\u06cc\\u0644\\u06cc\\u0627 \\u0633\\u06d2 \\u0645\\u062d\\u0628\\u062a \\u06a9\\u0631\\u062a\\u0627 \\u06c1\\u0648\\u06ba \\u060c \\u062f\\u0648 \\u0628\\u0627\\u0631 \\u0648\\u06c1\\u0627\\u06ba \\u06af\\u06cc\\u0627 \\u06c1\\u0648\\u06ba!)\\u06d4\",\n          \"\\u0645\\u06cc\\u06ba \\u0627\\u067e\\u0646\\u06d2 \\u062f\\u0645\\u0627\\u063a \\u06a9\\u0648 \\u062c\\u06be\\u0646\\u062c\\u06be\\u0648\\u0691 \\u0631\\u06c1\\u0627 \\u06c1\\u0648\\u06ba \\u060c \\u0644\\u06cc\\u06a9\\u0646 \\u0645\\u06cc\\u06ba \\u06af\\u0648\\u0627\\u0646\\u06af\\u06cc \\u06a9\\u06cc \\u0648\\u0627\\u062f\\u06cc \\u06a9\\u06cc \\u0637\\u0631\\u062d \\u06a9\\u0633\\u06cc \\u0627\\u0648\\u0631 \\u0641\\u0644\\u0645 \\u06a9\\u06d2 \\u0628\\u0627\\u0631\\u06d2 \\u0645\\u06cc\\u06ba \\u0633\\u0648\\u0686\\u0627 \\u0628\\u06be\\u06cc \\u0646\\u06c1\\u06cc\\u06ba \\u0633\\u06a9\\u062a\\u0627\\u06d4 \\u0627\\u06cc\\u06a9 \\u0645\\u063a\\u0631\\u0628\\u06cc \\u0688\\u0627\\u06cc\\u0646\\u0627\\u0633\\u0648\\u0631 \\u06a9\\u06d2 \\u0633\\u0627\\u062a\\u06be\\u061f \\u0627\\u0633 \\u0633\\u06d2 \\u0632\\u06cc\\u0627\\u062f\\u06c1 \\u0642\\u062f\\u0631\\u062a\\u06cc \\u0627\\u0648\\u0631 \\u06a9\\u06cc\\u0627 \\u06c1\\u0648\\u0633\\u06a9\\u062a\\u06cc \\u06c1\\u06d2\\u061f \\u0622\\u067e \\u06a9\\u0648 \\u062d\\u06cc\\u0631\\u062a \\u06c1\\u0648\\u06af\\u06cc \\u06a9\\u06c1 \\u062c\\u0627\\u0646 \\u0641\\u0648\\u0631\\u0688 \\u0627\\u0648\\u0631 / \\u06cc\\u0627 \\u062c\\u0627\\u0646 \\u0648\\u06cc\\u0646 \\u0646\\u06d2 \\u06a9\\u0628\\u06be\\u06cc \\u0627\\u0633 \\u06a9\\u06cc \\u06a9\\u0648\\u0634\\u0634 \\u06a9\\u06cc\\u0648\\u06ba \\u0646\\u06c1\\u06cc\\u06ba \\u06a9\\u06cc! \\u067e\\u0644\\u0627\\u0679 - \\u0627\\u0633 \\u06a9\\u06d2 \\u0633\\u0631\\u06a9\\u0633 \\u060c \\u0679\\u06cc \\u062c\\u06d2 \\u0628\\u0631\\u06cc\\u06a9\\u0646\\u0631\\u062c (\\u06af\\u06cc\\u0644\\u06c1 \\u06af\\u0648\\u0644\\u0646) \\u060c \\u0679\\u06a9 \\u06a9\\u0631\\u0628\\u06cc (\\u062c\\u06cc\\u0645\\u0632 \\u0641\\u0631\\u0627\\u0646\\u0633\\u0633\\u06a9\\u0648\\u0633) \\u060c \\u0627\\u0648\\u0631 \\u0628\\u0627\\u0642\\u06cc \\u06a9\\u0627\\u0633\\u0679 / \\u06a9\\u0631\\u062f\\u0627\\u0631 \\u0627\\u06cc\\u06a9 \\u0639\\u062c\\u06cc\\u0628 \\u0648 \\u063a\\u0631\\u06cc\\u0628 \\u0648\\u0627\\u062f\\u06cc \\u0645\\u06cc\\u06ba \\u062f\\u0627\\u062e\\u0644 \\u06c1\\u0648\\u062a\\u06d2 \\u06c1\\u06cc\\u06ba \\u062a\\u0648 \\u0627\\u0633 \\u06a9\\u06d2 \\u0644\\u0626\\u06d2 \\u0627\\u06cc\\u06a9 \\u062e\\u0631\\u0627\\u0641\\u0627\\u062a\\u06cc \\u0686\\u06be\\u0648\\u0679\\u06d2 \\u0686\\u06be\\u0648\\u0679\\u06d2 \\u06af\\u06be\\u0648\\u0691\\u06d2 \\u06a9\\u06cc \\u062a\\u0644\\u0627\\u0634 \\u06a9\\u0631\\u062a\\u06d2 \\u06c1\\u0648\\u0626\\u06d2\\u06d4 \\u0648\\u06c1\\u0627\\u06ba \\u0627\\u0646\\u06c1\\u06cc\\u06ba \\u0646\\u06c1 \\u0635\\u0631\\u0641 \\u0686\\u06be\\u0648\\u0679\\u06d2 \\u06af\\u06be\\u0648\\u0691\\u06d2 \\u060c \\u0628\\u0644\\u06a9\\u06c1 \\u06a9\\u0686\\u06be \\u0627\\u0648\\u0631 \\u062e\\u0648\\u0641\\u0646\\u0627\\u06a9 \\u0645\\u062e\\u0644\\u0648\\u0642 \\u0628\\u06be\\u06cc \\u0645\\u0644\\u062a\\u06cc \\u06c1\\u06d2\\u06d4 \\u0688\\u0627\\u0626\\u0646\\u0648\\u0633\\u0627\\u0631\\u0633 \\u0627\\u0633 \\u062c\\u06af\\u06c1 \\u067e\\u0631 \\u062d\\u06a9\\u0645\\u0631\\u0627\\u0646\\u06cc \\u06a9\\u0631\\u062a\\u06d2 \\u06c1\\u06cc\\u06ba\\u06d4 \\u06a9\\u06cc\\u0627 \\u0627\\u0628 \\u06cc\\u06c1 TJ \\u06a9\\u06d2 \\u0633\\u0631\\u06a9\\u0633 \\u06cc\\u0639\\u0646\\u06cc Caged T-Rex \\u06a9\\u06cc \\u062a\\u0648\\u062c\\u06c1 \\u06a9\\u0627 \\u0645\\u0631\\u06a9\\u0632 \\u0646\\u06c1\\u06cc\\u06ba \\u06c1\\u0648\\u06af\\u0627\\u061f \\u0627\\u06cc\\u0633\\u0627 \\u0646\\u06c1\\u06cc\\u06ba \\u06c1\\u06d2 \\u06a9\\u06c1 \\u0645\\u062c\\u06be\\u06d2 \\u0648\\u0627\\u062f\\u06cc \\u06a9\\u06cc \\u06af\\u0648\\u0627\\u0646\\u06af \\u06a9\\u06cc \\u0628\\u0631\\u06cc \\u0641\\u0644\\u0645 \\u0646\\u0638\\u0631 \\u0622\\u062a\\u06cc \\u06c1\\u06d2 \\u060c \\u0627\\u06cc\\u0633\\u0627 \\u0644\\u06af\\u062a\\u0627 \\u06c1\\u06d2 \\u06a9\\u06c1 \\u0645\\u062c\\u06be\\u06d2 \\u0627\\u0633 \\u0633\\u06d2 \\u0632\\u06cc\\u0627\\u062f\\u06c1 \\u0633\\u06d2 \\u0632\\u06cc\\u0627\\u062f\\u06c1 \\u0644\\u0637\\u0641 \\u0627\\u0646\\u062f\\u0648\\u0632 \\u0646\\u06c1\\u06cc\\u06ba \\u06c1\\u0648\\u0627 \\u06c1\\u0648\\u06af\\u0627 \\u062c\\u062a\\u0646\\u0627 \\u06a9\\u06c1 \\u0641\\u0644\\u0645 \\u067e\\u0631 \\u062a\\u0628\\u0635\\u0631\\u06d2 \\u0634\\u0627\\u0626\\u0639 \\u06a9\\u0631\\u0646\\u06d2 \\u0648\\u0627\\u0644\\u06d2 \\u062f\\u0648\\u0633\\u0631\\u06d2 \\u0644\\u0648\\u06af\\u0648\\u06ba \\u0646\\u06d2 \\u0628\\u06be\\u06cc \\u06a9\\u06cc\\u0627 \\u06c1\\u06d2\\u06d4 \\u06a9\\u0686\\u06be \\u062d\\u0635\\u06d2 \\u0627\\u06cc\\u0633\\u06d2 \\u06c1\\u06cc\\u06ba \\u062c\\u0646 \\u06a9\\u0648 \\u0645\\u06cc\\u06ba \\u0648\\u0627\\u0642\\u0639\\u062a\\u0627 almost \\u0644\\u06af \\u0628\\u06be\\u06af \\u0646\\u0627\\u06af\\u0648\\u0627\\u0631 \\u0645\\u062d\\u0633\\u0648\\u0633 \\u06a9\\u0631\\u062a\\u0627 \\u06c1\\u0648\\u06ba\\u06d4 \\u0641\\u0644\\u0645 \\u06a9\\u06d2 \\u067e\\u06c1\\u0644\\u06d2 \\u0646\\u0635\\u0641 \\u062d\\u0635\\u06d2 \\u0645\\u06cc\\u06ba \\u060c \\u0627\\u06cc\\u0633\\u0627 \\u0644\\u06af\\u062a\\u0627 \\u06c1\\u06d2 \\u06a9\\u06c1 \\u0627\\u0628\\u06be\\u06cc \\u0632\\u06cc\\u0627\\u062f\\u06c1 \\u0686\\u0644\\u062a\\u0627 \\u06c1\\u06cc \\u0646\\u06c1\\u06cc\\u06ba \\u06c1\\u06d2\\u06d4 \\u0645\\u06cc\\u06ba \\u0636\\u0631\\u0648\\u0631\\u06cc \\u0637\\u0648\\u0631 \\u067e\\u0631 \\u0628\\u0648\\u0631 \\u0646\\u06c1\\u06cc\\u06ba \\u06c1\\u0648\\u0627 \\u062a\\u06be\\u0627 \\u060c \\u0644\\u06cc\\u06a9\\u0646 \\u0645\\u06cc\\u06ba \\u0686\\u0627\\u06c1\\u062a\\u0627 \\u062a\\u06be\\u0627 \\u06a9\\u06c1 \\u06a9\\u0686\\u06be \\u06c1\\u0648\\u062c\\u0627\\u0626\\u06d2\\u06d4 \\u067e\\u0644\\u0645\\u0688\\u0646\\u06af \\u0627\\u06cc\\u06a9 \\u0635\\u0641\\u062a \\u06c1\\u0648\\u06af\\u06cc \\u062c\\u0633 \\u06a9\\u0627 \\u0645\\u06cc\\u06ba \\u0627\\u0633\\u062a\\u0639\\u0645\\u0627\\u0644 \\u06a9\\u0631\\u0648\\u06ba \\u06af\\u0627\\u06d4 \\u0627\\u0633\\u06d2 \\u062e\\u062a\\u0645 \\u06a9\\u0631\\u0646\\u06d2 \\u06a9\\u06d2 \\u0644\\u0626\\u06d2 \\u060c \\u0645\\u0648\\u0648\\u06cc \\u0645\\u06cc\\u06ba \\u0627\\u06cc\\u06a9 \\u0628\\u06c1\\u062a \\u06c1\\u06cc \\u062a\\u0639\\u0627\\u0648\\u0646 \\u0633\\u06d2 \\u0686\\u0644\\u0646\\u06d2 \\u0648\\u0627\\u0644\\u06cc \\u0645\\u062d\\u0628\\u062a \\u06a9\\u06cc \\u06a9\\u06c1\\u0627\\u0646\\u06cc \\u067e\\u06cc\\u0634 \\u06a9\\u06cc \\u06af\\u0626\\u06cc \\u06c1\\u06d2\\u06d4 \\u06cc\\u06c1 \\u062c\\u0628\\u0631\\u06cc \\u0637\\u0648\\u0631 \\u067e\\u0631 \\u0645\\u062d\\u0633\\u0648\\u0633 \\u06c1\\u0648\\u062a\\u0627 \\u06c1\\u06d2 \\u062c\\u06cc\\u0633\\u06d2 \\u0645\\u0635\\u0646\\u0641\\u06cc\\u0646 \\u0646\\u06d2 \\u0641\\u06cc\\u0635\\u0644\\u06c1 \\u06a9\\u06cc\\u0627 \\u06c1\\u06d2 \\u06a9\\u06c1 \\u0635\\u0631\\u0641 \\u0645\\u0631\\u062f \\u0627\\u0648\\u0631 \\u062e\\u0648\\u0627\\u062a\\u06cc\\u0646 \\u06a9\\u06cc \\u0644\\u06cc\\u0688 \\u06a9\\u0648 \\u0627\\u06a9\\u0679\\u06be\\u0627 \\u06c1\\u0648\\u0646\\u0627 \\u06c1\\u06d2\\u06d4 \\u0644\\u06cc\\u06a9\\u0646 \\u06af\\u0648\\u0627\\u0646\\u06af\\u06cc \\u06a9\\u06cc \\u0648\\u0627\\u062f\\u06cc \\u0645\\u06a9\\u0645\\u0644 \\u0637\\u0648\\u0631 \\u067e\\u0631 \\u0636\\u0627\\u0626\\u0639 \\u0646\\u06c1\\u06cc\\u06ba \\u06c1\\u06d2\\u06d4 \\u0627\\u06cc\\u0633\\u06d2 \\u0644\\u0645\\u062d\\u0627\\u062a \\u06c1\\u06cc\\u06ba \\u062c\\u0646 \\u0633\\u06d2 \\u0645\\u06cc\\u06ba \\u0646\\u06d2 \\u0648\\u0627\\u0642\\u0639\\u06cc \\u0644\\u0637\\u0641 \\u0627\\u0679\\u06be\\u0627\\u06cc\\u0627\\u06d4 \\u062c\\u0648 \\u06af\\u06be\\u0648\\u0691\\u0648\\u06ba \\u067e\\u0631 \\u0633\\u0648\\u0627\\u0631 \\u06a9\\u0627\\u0624\\u0628\\u0627\\u06cc\\u0648\\u06ba \\u06a9\\u06d2 \\u0645\\u0646\\u0627\\u0638\\u0631 \\u0633\\u06d2 \\u0628\\u0627\\u06c1\\u0631 \\u0646\\u06c1\\u06cc\\u06ba \\u0646\\u06a9\\u0644\\u062a\\u0627 \\u0648\\u06c1 \\u0679\\u06cc-\\u0631\\u06cc\\u06a9\\u0633 \\u06a9\\u0648 \\u0644\\u0633\\u0627\\u0646 \\u06a9\\u0631\\u0646\\u06d2 \\u06a9\\u06cc \\u06a9\\u0648\\u0634\\u0634 \\u06a9\\u0631 \\u0631\\u06c1\\u0627 \\u06c1\\u06d2\\u06d4 \\u0622\\u067e \\u06a9\\u0648 \\u06c1\\u0631 \\u0631\\u0648\\u0632 \\u0627\\u06cc\\u0633\\u06cc \\u0686\\u06cc\\u0632\\u06cc\\u06ba \\u0646\\u0638\\u0631 \\u0646\\u06c1\\u06cc\\u06ba \\u0622\\u062a\\u06cc \\u06c1\\u06cc\\u06ba\\u06d4 \\u0631\\u06d2 \\u06c1\\u06cc\\u0631\\u06cc \\u06c1\\u0627\\u0624\\u0633\\u06cc\\u0646 \\u06a9\\u06cc \\u0645\\u062e\\u0644\\u0648\\u0642 \\u0645\\u062a\\u0627\\u062b\\u0631 \\u06a9\\u0646 \\u06c1\\u06d2\\u06d4 \\u0644\\u0648\\u06af\\u0648\\u06ba \\u0627\\u0648\\u0631 \\u06af\\u06be\\u0648\\u0691\\u0648\\u06ba \\u06a9\\u06d2 \\u0633\\u0627\\u062a\\u06be \\u0628\\u0627\\u062a \\u0686\\u06cc\\u062a \\u06a9\\u0631\\u0646\\u06d2 \\u0648\\u0627\\u0644\\u06cc \\u06c1\\u06cc\\u0631\\u06cc \\u06c1\\u0627\\u0624\\u0633\\u06cc\\u0646 \\u06a9\\u06d2 \\u0686\\u06be\\u0648\\u0679\\u06d2 \\u0686\\u06be\\u0648\\u0679\\u06d2 \\u0648\\u0627\\u0642\\u0639\\u0627\\u062a \\u0645\\u06cc\\u06ba \\u0633\\u06d2 \\u06a9\\u0686\\u06be \\u0648\\u0627\\u0642\\u0639\\u06cc \\u0688\\u0627\\u0624\\u0646 \\u0644\\u0648\\u0688 \\u06c1\\u06cc\\u06ba\\u06d4 \\u06cc\\u06c1 \\u0634\\u0627\\u06cc\\u062f \\u0627\\u0633 \\u06a9\\u06d2 \\u0628\\u06c1\\u062a\\u0631\\u06cc\\u0646 \\u06a9\\u0627\\u0645 \\u06a9\\u06cc \\u0646\\u0645\\u0627\\u0626\\u0646\\u062f\\u06af\\u06cc \\u0646\\u06c1\\u06cc\\u06ba \\u06a9\\u0631\\u06d2 \\u06af\\u0627 \\u060c \\u0644\\u06cc\\u06a9\\u0646 \\u0627\\u062b\\u0631\\u0627\\u062a \\u0628\\u06c1\\u062a \\u0627\\u0686\\u06be\\u06d2 \\u06c1\\u06cc\\u06ba\\u06d4 \\u067e\\u06be\\u0631 \\u0628\\u06be\\u06cc \\u060c \\u06a9\\u0645 \\u0627\\u0632 \\u06a9\\u0645 \\u0645\\u06cc\\u0631\\u06d2 \\u0630\\u06c1\\u0646 \\u0645\\u06cc\\u06ba \\u06cc\\u06c1 \\u0627\\u0686\\u06be moments\\u06d2 \\u0644\\u0645\\u062d\\u0627\\u062a \\u0645\\u0646\\u0641\\u06cc \\u067e\\u0631 \\u0642\\u0627\\u0628\\u0648 \\u067e\\u0627\\u0646\\u06d2 \\u06a9\\u06d2 \\u0644\\u0626\\u06d2 \\u06a9\\u0627\\u0641\\u06cc \\u0646\\u06c1\\u06cc\\u06ba \\u06c1\\u06cc\\u06ba\\u06d4 \\u062c\\u062a\\u0646\\u0627 \\u0645\\u062c\\u06be\\u06d2 \\u0627\\u0633 \\u0633\\u06d2 \\u0646\\u0641\\u0631\\u062a \\u06c1\\u06d2 \\u060c \\u0645\\u062c\\u06be\\u06d2 \\u06af\\u0648\\u0627\\u0646\\u06af \\u06a9\\u06cc \\u0648\\u0627\\u062f\\u06cc \\u06a9\\u0648 4-10 \\u06a9\\u06cc \\u062f\\u0631\\u062c\\u06c1 \\u0628\\u0646\\u062f\\u06cc \\u06a9\\u0631\\u0646\\u0627 \\u06c1\\u0648\\u06af\\u06cc\\u06d4\"\n        ],\n        \"semantic_type\": \"\",\n        \"description\": \"\"\n      }\n    },\n    {\n      \"column\": \"label\",\n      \"properties\": {\n        \"dtype\": \"category\",\n        \"num_unique_values\": 2,\n        \"samples\": [\n          \"negative\",\n          \"positive\"\n        ],\n        \"semantic_type\": \"\",\n        \"description\": \"\"\n      }\n    }\n  ]\n}"
            }
          },
          "metadata": {},
          "execution_count": 9
        }
      ],
      "source": [
        "df.head()\n"
      ]
    },
    {
      "cell_type": "code",
      "execution_count": null,
      "metadata": {
        "colab": {
          "base_uri": "https://localhost:8080/",
          "height": 449
        },
        "id": "A4IkMj0odX1U",
        "outputId": "7f31d339-9a3d-44c9-8baa-2a7af2327e7e"
      },
      "outputs": [
        {
          "output_type": "display_data",
          "data": {
            "text/plain": [
              "<Figure size 640x480 with 1 Axes>"
            ],
            "image/png": "[encoded data removed]"
          },
          "metadata": {}
        }
      ],
      "source": [
        "sns.countplot( x = 'label', data = df );"
      ]
    },
    {
      "cell_type": "code",
      "execution_count": null,
      "metadata": {
        "colab": {
          "base_uri": "https://localhost:8080/"
        },
        "id": "2EKfZmBYdX1V",
        "outputId": "387210d5-f235-47db-e4d4-6e5c3c945ab9"
      },
      "outputs": [
        {
          "output_type": "stream",
          "name": "stderr",
          "text": [
            "[nltk_data] Downloading package punkt to /root/nltk_data...\n",
            "[nltk_data]   Unzipping tokenizers/punkt.zip.\n"
          ]
        }
      ],
      "source": [
        "import re\n",
        "from nltk.stem import PorterStemmer\n",
        "import nltk\n",
        "nltk.download('punkt')\n",
        "stemmer = PorterStemmer()"
      ]
    },
    {
      "cell_type": "code",
      "execution_count": null,
      "metadata": {
        "colab": {
          "base_uri": "https://localhost:8080/"
        },
        "id": "mJ6LXxskdX1W",
        "outputId": "e35ffdc0-024b-410d-a1ac-cfcc8c98a9d8"
      },
      "outputs": [
        {
          "output_type": "stream",
          "name": "stdout",
          "text": [
            "Loaded Urdu Stopwords:  140\n"
          ]
        }
      ],
      "source": [
        "import csv\n",
        "def load_stopwords_from_csv(csv_file):\n",
        "    stopwords = set()\n",
        "    with open(csv_file, newline='', encoding='utf-8') as file:\n",
        "        reader = csv.reader(file)\n",
        "        for row in reader:\n",
        "            stopwords.add(row[0])\n",
        "    return stopwords\n",
        "\n",
        "stopwords_csv_file = file_path+'/urdu_stopwords.csv'\n",
        "urdu_stopwords = load_stopwords_from_csv(stopwords_csv_file)\n",
        "print(\"Loaded Urdu Stopwords: \", len(urdu_stopwords))\n"
      ]
    },
    {
      "cell_type": "code",
      "execution_count": null,
      "metadata": {
        "id": "azK0p452dX1X"
      },
      "outputs": [],
      "source": [
        "def clean_text(urdu_text):\n",
        "    urdu_text = urdu_text.lower()\n",
        "    urdu_text = re.sub(\"[^\\u0600-\\u06FF\\s]\", ' ', urdu_text)\n",
        "    urdu_text = nltk.word_tokenize(urdu_text)\n",
        "    urdu_text = [t for t in urdu_text if len(t) > 1]\n",
        "    urdu_text = [stemmer.stem(word) for word in urdu_text if word not in urdu_stopwords]\n",
        "    urdu_text = ' '.join(urdu_text)\n",
        "    return urdu_text"
      ]
    },
    {
      "cell_type": "code",
      "execution_count": null,
      "metadata": {
        "id": "BGjcB-UNdX1X"
      },
      "outputs": [],
      "source": [
        "df['clean_text'] = df['text'].apply(clean_text)"
      ]
    },
    {
      "cell_type": "code",
      "source": [
        "!pip install Urduhack[tf]\n",
        "# !pip install Urduhack[tf-gpu]\n"
      ],
      "metadata": {
        "id": "YV4gY5xIjsAN"
      },
      "execution_count": null,
      "outputs": []
    },
    {
      "cell_type": "code",
      "source": [
        "import urduhack\n",
        "\n",
        "# Downloading models\n",
        "urduhack.download()"
      ],
      "metadata": {
        "id": "6A6sA82UlB_8",
        "colab": {
          "base_uri": "https://localhost:8080/"
        },
        "outputId": "c7239ea7-bad5-4e9e-d645-2b1adca78754"
      },
      "execution_count": null,
      "outputs": [
        {
          "output_type": "stream",
          "name": "stderr",
          "text": [
            "/usr/local/lib/python3.10/dist-packages/tensorflow_addons/utils/tfa_eol_msg.py:23: UserWarning: \n",
            "\n",
            "TensorFlow Addons (TFA) has ended development and introduction of new features.\n",
            "TFA has entered a minimal maintenance and release mode until a planned end of life in May 2024.\n",
            "Please modify downstream libraries to take dependencies from other repositories in our TensorFlow community (e.g. Keras, Keras-CV, and Keras-NLP). \n",
            "\n",
            "For more information see: https://github.com/tensorflow/addons/issues/2807 \n",
            "\n",
            "  warnings.warn(\n"
          ]
        },
        {
          "output_type": "stream",
          "name": "stdout",
          "text": [
            "Downloading data from https://github.com/urduhack/resources/releases/download/word_tokenizer/word_tokenizer.zip\n",
            "36788015/36788015 [==============================] - 0s 0us/step\n",
            "Downloading data from https://github.com/urduhack/resources/releases/download/pos_tagger/pos_tagger.zip\n",
            "2761433/2761433 [==============================] - 0s 0us/step\n",
            "Downloading data from https://github.com/urduhack/resources/releases/download/ner/ner.zip\n",
            "11723346/11723346 [==============================] - 0s 0us/step\n",
            "Downloading data from https://github.com/urduhack/resources/releases/download/lemmatizer/ur_lemma_lookup.zip\n",
            "89078/89078 [==============================] - 0s 0us/step\n"
          ]
        }
      ]
    },
    {
      "cell_type": "code",
      "source": [
        "from urduhack.preprocessing import normalize_whitespace\n",
        "from urduhack.normalization import normalize\n",
        "from urduhack.tokenization import sentence_tokenizer\n",
        "from urduhack.tokenization import word_tokenizer\n",
        "from urduhack.preprocessing import remove_punctuation\n",
        "from urduhack.preprocessing import replace_numbers\n",
        "from urduhack.preprocessing import remove_english_alphabets"
      ],
      "metadata": {
        "id": "q8-lr3bzi37S"
      },
      "execution_count": null,
      "outputs": []
    },
    {
      "cell_type": "code",
      "source": [
        "import re\n",
        "def remove_emojis(text):\n",
        "    emoji_pattern = re.compile(\"[\"\n",
        "                               u\"\\U0001F600-\\U0001F64F\"  # emoticons\n",
        "                               u\"\\U0001F300-\\U0001F5FF\"  # symbols & pictographs\n",
        "                               u\"\\U0001F680-\\U0001F6FF\"  # transport & map symbols\n",
        "                               u\"\\U0001F1E0-\\U0001F1FF\"  # flags (iOS)\n",
        "                               \"]+\", flags=re.UNICODE)\n",
        "    return emoji_pattern.sub(r'', text)\n",
        "\n",
        "\n",
        "def preprocess_urdu_text(text):\n",
        "    text = remove_emojis(text)\n",
        "    text = normalize_whitespace(text)\n",
        "    text = remove_punctuation(text)\n",
        "    text = replace_numbers(text)\n",
        "    text = remove_english_alphabets(text)\n",
        "    text = normalize(text)\n",
        "    return text\n",
        "\n",
        "df['preprocessed_text'] = df['text'].apply(preprocess_urdu_text)"
      ],
      "metadata": {
        "id": "yGjTa2GKoeQU"
      },
      "execution_count": null,
      "outputs": []
    },
    {
      "cell_type": "code",
      "source": [
        "urdu_texts = df['preprocessed_text'].values\n",
        "len(urdu_texts)"
      ],
      "metadata": {
        "colab": {
          "base_uri": "https://localhost:8080/"
        },
        "id": "sOAZSvVtNwcm",
        "outputId": "3acfa821-9d88-4d47-855c-8ca8b0277308"
      },
      "execution_count": null,
      "outputs": [
        {
          "output_type": "execute_result",
          "data": {
            "text/plain": [
              "50000"
            ]
          },
          "metadata": {},
          "execution_count": 26
        }
      ]
    },
    {
      "cell_type": "code",
      "source": [
        "from tensorflow.keras.preprocessing.text import Tokenizer\n",
        "from tensorflow.keras.preprocessing.sequence import pad_sequences\n",
        "\n",
        "# Initialize the tokenizer\n",
        "tokenizer = Tokenizer()\n",
        "\n",
        "# Fit the tokenizer on the Urdu text data\n",
        "tokenizer.fit_on_texts(urdu_texts)\n",
        "\n",
        "# Tokenize the text data\n",
        "urdu_sequences = tokenizer.texts_to_sequences(urdu_texts)\n",
        "\n",
        "max_seq_length = max(len(seq) for seq in urdu_sequences)\n",
        "padded_sequences = pad_sequences(urdu_sequences, maxlen=max_seq_length, padding='post')"
      ],
      "metadata": {
        "id": "Clyp-TE3Ybo8"
      },
      "execution_count": null,
      "outputs": []
    },
    {
      "cell_type": "code",
      "source": [
        "token = pd.DataFrame(tokenizer.word_counts.items(), columns=['word', 'count'])\n",
        "\n",
        "token.head(8)"
      ],
      "metadata": {
        "colab": {
          "base_uri": "https://localhost:8080/",
          "height": 53
        },
        "id": "zkzgs3s-OdE8",
        "outputId": "052d9894-ba2c-4c91-8c5f-08b87c2afbb3"
      },
      "execution_count": null,
      "outputs": [
        {
          "output_type": "execute_result",
          "data": {
            "text/plain": [
              "Empty DataFrame\n",
              "Columns: [word, count]\n",
              "Index: []"
            ],
            "text/html": [
              "\n",
              "  <div id=\"df-da8d414b-7721-43e5-9888-96a77e011500\" class=\"colab-df-container\">\n",
              "    <div>\n",
              "<style scoped>\n",
              "    .dataframe tbody tr th:only-of-type {\n",
              "        vertical-align: middle;\n",
              "    }\n",
              "\n",
              "    .dataframe tbody tr th {\n",
              "        vertical-align: top;\n",
              "    }\n",
              "\n",
              "    .dataframe thead th {\n",
              "        text-align: right;\n",
              "    }\n",
              "</style>\n",
              "<table border=\"1\" class=\"dataframe\">\n",
              "  <thead>\n",
              "    <tr style=\"text-align: right;\">\n",
              "      <th></th>\n",
              "      <th>word</th>\n",
              "      <th>count</th>\n",
              "    </tr>\n",
              "  </thead>\n",
              "  <tbody>\n",
              "  </tbody>\n",
              "</table>\n",
              "</div>\n",
              "    <div class=\"colab-df-buttons\">\n",
              "\n",
              "  <div class=\"colab-df-container\">\n",
              "    <button class=\"colab-df-convert\" onclick=\"convertToInteractive('df-da8d414b-7721-43e5-9888-96a77e011500')\"\n",
              "            title=\"Convert this dataframe to an interactive table.\"\n",
              "            style=\"display:none;\">\n",
              "\n",
              "  <svg xmlns=\"http://www.w3.org/2000/svg\" height=\"24px\" viewBox=\"0 -960 960 960\">\n",
              "    <path d=\"M120-120v-720h720v720H120Zm60-500h600v-160H180v160Zm220 220h160v-160H400v160Zm0 220h160v-160H400v160ZM180-400h160v-160H180v160Zm440 0h160v-160H620v160ZM180-180h160v-160H180v160Zm440 0h160v-160H620v160Z\"/>\n",
              "  </svg>\n",
              "    </button>\n",
              "\n",
              "  <style>\n",
              "    .colab-df-container {\n",
              "      display:flex;\n",
              "      gap: 12px;\n",
              "    }\n",
              "\n",
              "    .colab-df-convert {\n",
              "      background-color: #E8F0FE;\n",
              "      border: none;\n",
              "      border-radius: 50%;\n",
              "      cursor: pointer;\n",
              "      display: none;\n",
              "      fill: #1967D2;\n",
              "      height: 32px;\n",
              "      padding: 0 0 0 0;\n",
              "      width: 32px;\n",
              "    }\n",
              "\n",
              "    .colab-df-convert:hover {\n",
              "      background-color: #E2EBFA;\n",
              "      box-shadow: 0px 1px 2px rgba(60, 64, 67, 0.3), 0px 1px 3px 1px rgba(60, 64, 67, 0.15);\n",
              "      fill: #174EA6;\n",
              "    }\n",
              "\n",
              "    .colab-df-buttons div {\n",
              "      margin-bottom: 4px;\n",
              "    }\n",
              "\n",
              "    [theme=dark] .colab-df-convert {\n",
              "      background-color: #3B4455;\n",
              "      fill: #D2E3FC;\n",
              "    }\n",
              "\n",
              "    [theme=dark] .colab-df-convert:hover {\n",
              "      background-color: #434B5C;\n",
              "      box-shadow: 0px 1px 3px 1px rgba(0, 0, 0, 0.15);\n",
              "      filter: drop-shadow(0px 1px 2px rgba(0, 0, 0, 0.3));\n",
              "      fill: #FFFFFF;\n",
              "    }\n",
              "  </style>\n",
              "\n",
              "    <script>\n",
              "      const buttonEl =\n",
              "        document.querySelector('#df-da8d414b-7721-43e5-9888-96a77e011500 button.colab-df-convert');\n",
              "      buttonEl.style.display =\n",
              "        google.colab.kernel.accessAllowed ? 'block' : 'none';\n",
              "\n",
              "      async function convertToInteractive(key) {\n",
              "        const element = document.querySelector('#df-da8d414b-7721-43e5-9888-96a77e011500');\n",
              "        const dataTable =\n",
              "          await google.colab.kernel.invokeFunction('convertToInteractive',\n",
              "                                                    [key], {});\n",
              "        if (!dataTable) return;\n",
              "\n",
              "        const docLinkHtml = 'Like what you see? Visit the ' +\n",
              "          '<a target=\"_blank\" href=https://colab.research.google.com/notebooks/data_table.ipynb>data table notebook</a>'\n",
              "          + ' to learn more about interactive tables.';\n",
              "        element.innerHTML = '';\n",
              "        dataTable['output_type'] = 'display_data';\n",
              "        await google.colab.output.renderOutput(dataTable, element);\n",
              "        const docLink = document.createElement('div');\n",
              "        docLink.innerHTML = docLinkHtml;\n",
              "        element.appendChild(docLink);\n",
              "      }\n",
              "    </script>\n",
              "  </div>\n",
              "\n",
              "\n",
              "    </div>\n",
              "  </div>\n"
            ],
            "application/vnd.google.colaboratory.intrinsic+json": {
              "type": "dataframe",
              "variable_name": "token",
              "repr_error": "Out of range float values are not JSON compliant: nan"
            }
          },
          "metadata": {},
          "execution_count": 13
        }
      ]
    },
    {
      "cell_type": "code",
      "source": [
        "!unzip /content/drive/MyDrive/urduvec_140M_100K_300d.zip"
      ],
      "metadata": {
        "colab": {
          "base_uri": "https://localhost:8080/"
        },
        "id": "o9P99lGtPzIf",
        "outputId": "1c3be28b-aeda-493d-d5fd-c1b86a110220"
      },
      "execution_count": null,
      "outputs": [
        {
          "output_type": "stream",
          "name": "stdout",
          "text": [
            "Archive:  /content/drive/MyDrive/urduvec_140M_100K_300d.zip\n",
            "  inflating: urduvec_140M_100K_300d.bin  \n"
          ]
        }
      ]
    },
    {
      "cell_type": "code",
      "source": [
        "from gensim.models import KeyedVectors\n",
        "\n",
        "word2vec_model = KeyedVectors.load_word2vec_format(\"/content/urduvec_140M_100K_300d.bin\", binary=True)"
      ],
      "metadata": {
        "id": "C3XCu-oRpjxv"
      },
      "execution_count": null,
      "outputs": []
    },
    {
      "cell_type": "code",
      "source": [
        "import numpy as np\n",
        "embedding_dim = word2vec_model.vector_size\n",
        "vocab_size = len(word2vec_model)\n",
        "embedding_matrix = np.zeros((vocab_size, embedding_dim))\n",
        "for i, word in enumerate(word2vec_model.index_to_key):\n",
        "    embedding_matrix[i] = word2vec_model.get_vector(word)"
      ],
      "metadata": {
        "id": "YmxVSkC0qcaN"
      },
      "execution_count": null,
      "outputs": []
    },
    {
      "cell_type": "code",
      "source": [
        "pretrained_vocab = set(word2vec_model.index_to_key)\n",
        "oov_words = [word for word in token['word'].tolist() if word not in pretrained_vocab]\n",
        "\n",
        "print(\"Out-of-vocabulary words:\", oov_words)\n"
      ],
      "metadata": {
        "id": "RpWX8Thv5jRQ",
        "outputId": "6abdb486-f965-41c6-a0d2-13e89db5cde0",
        "colab": {
          "base_uri": "https://localhost:8080/"
        }
      },
      "execution_count": null,
      "outputs": [
        {
          "output_type": "stream",
          "name": "stdout",
          "text": [
            "Out-of-vocabulary words: []\n"
          ]
        }
      ]
    },
    {
      "cell_type": "code",
      "source": [
        "print(\"Out-of-vocabulary words:\", len(oov_words))\n"
      ],
      "metadata": {
        "id": "GqBa1IRU96Em",
        "outputId": "31382f4f-743e-4b2d-8a1c-84a4978094ef",
        "colab": {
          "base_uri": "https://localhost:8080/"
        }
      },
      "execution_count": null,
      "outputs": [
        {
          "output_type": "stream",
          "name": "stdout",
          "text": [
            "Out-of-vocabulary words: 0\n"
          ]
        }
      ]
    },
    {
      "cell_type": "code",
      "source": [
        "overlapping_words = [word for word in token['word'].tolist() if word in pretrained_vocab]\n",
        "\n",
        "print(\"len of overlapping_words words:\", len(overlapping_words))\n",
        "print(\"overlapping_words words:\", overlapping_words)\n"
      ],
      "metadata": {
        "colab": {
          "base_uri": "https://localhost:8080/"
        },
        "id": "wDK7x54tcHqG",
        "outputId": "609ccc36-b618-476c-b13d-f5d370995353"
      },
      "execution_count": null,
      "outputs": [
        {
          "output_type": "stream",
          "name": "stdout",
          "text": [
            "len of overlapping_words words: 0\n",
            "overlapping_words words: []\n"
          ]
        }
      ]
    },
    {
      "cell_type": "code",
      "source": [
        "labels = df['label'].values"
      ],
      "metadata": {
        "id": "rLJ1YpMXowXN"
      },
      "execution_count": null,
      "outputs": []
    },
    {
      "cell_type": "code",
      "source": [
        "print(len(word2vec_model))\n",
        "len(token)"
      ],
      "metadata": {
        "colab": {
          "base_uri": "https://localhost:8080/"
        },
        "id": "cdbof6eky7rv",
        "outputId": "50fab27e-3e01-4952-aba8-2edc843510e3"
      },
      "execution_count": null,
      "outputs": [
        {
          "output_type": "stream",
          "name": "stdout",
          "text": [
            "102214\n"
          ]
        },
        {
          "output_type": "execute_result",
          "data": {
            "text/plain": [
              "102201"
            ]
          },
          "metadata": {},
          "execution_count": 29
        }
      ]
    },
    {
      "cell_type": "code",
      "source": [
        "from sklearn.preprocessing import LabelEncoder\n",
        "\n",
        "# Assuming df is your DataFrame containing the labels\n",
        "label_encoder = LabelEncoder()\n",
        "encoded_labels = label_encoder.fit_transform(df['label'])  # 'label' is the column containing your string labels\n",
        "\n",
        "# Then use encoded_labels in your model\n",
        "\n",
        "label_mapping = dict(zip(label_encoder.transform(label_encoder.classes_), label_encoder.classes_))\n",
        "print(label_mapping)"
      ],
      "metadata": {
        "id": "IpxQKoM2z9N8",
        "colab": {
          "base_uri": "https://localhost:8080/"
        },
        "outputId": "c725287b-6402-43e9-cde0-c68fc1c61f5d"
      },
      "execution_count": null,
      "outputs": [
        {
          "output_type": "stream",
          "name": "stdout",
          "text": [
            "{0: 'negative', 1: 'positive'}\n"
          ]
        }
      ]
    },
    {
      "cell_type": "code",
      "source": [
        "from sklearn.metrics import accuracy_score, f1_score, precision_score, recall_score\n",
        "\n",
        "def evaluate_model(model, sequences, labels):\n",
        "    predictions = model.predict(sequences)\n",
        "    predicted_classes = np.round(predictions)\n",
        "    accuracy = accuracy_score(labels, predicted_classes)\n",
        "    precision = precision_score(labels, predicted_classes, zero_division=1)\n",
        "    recall = recall_score(labels, predicted_classes)\n",
        "    f1 = f1_score(labels, predicted_classes)\n",
        "    return accuracy, precision, recall, f1\n"
      ],
      "metadata": {
        "id": "f6V1xU6JNbSs"
      },
      "execution_count": null,
      "outputs": []
    },
    {
      "cell_type": "code",
      "source": [
        "trainData, testData, trainTarget, testTarget = train_test_split(padded_sequences, encoded_labels, test_size=0.25, random_state=42)"
      ],
      "metadata": {
        "id": "cF1aEELweI8M"
      },
      "execution_count": null,
      "outputs": []
    },
    {
      "cell_type": "code",
      "source": [
        "from keras.models import Sequential\n",
        "from keras.layers import Embedding, LSTM, GRU, SimpleRNN, Bidirectional, Dense, Dropout\n",
        "from keras.preprocessing.text import Tokenizer\n",
        "\n",
        "\n",
        "model = Sequential()\n",
        "model.add(Embedding(vocab_size, embedding_dim, weights=[embedding_matrix], trainable=False))\n",
        "\n",
        "model.add(Bidirectional(LSTM(units = 64, dropout = 0.2, return_sequences=True)))\n",
        "model.add(Bidirectional(LSTM(units = 64, dropout = 0.2, return_sequences=True)))\n",
        "\n",
        "model.add(Bidirectional(LSTM(units = 64, dropout = 0.2)))\n",
        "model.add(Dense(units=1, activation='sigmoid'))\n",
        "\n",
        "model.compile(optimizer = 'adam', loss = 'binary_crossentropy', metrics = ['accuracy'])\n"
      ],
      "metadata": {
        "id": "vBSmmXaZeurV",
        "colab": {
          "base_uri": "https://localhost:8080/"
        },
        "outputId": "72746e96-5b71-445c-e7dd-6f5a51416a3e"
      },
      "execution_count": null,
      "outputs": [
        {
          "output_type": "stream",
          "name": "stdout",
          "text": [
            "1172/1172 [==============================] - 664s 549ms/step - loss: 0.6528 - accuracy: 0.6085 - val_loss: 0.6817 - val_accuracy: 0.5060\n"
          ]
        },
        {
          "output_type": "execute_result",
          "data": {
            "text/plain": [
              "<keras.src.callbacks.History at 0x7afca675ffd0>"
            ]
          },
          "metadata": {},
          "execution_count": 29
        }
      ]
    },
    {
      "cell_type": "code",
      "source": [
        "model.fit(trainData, trainTarget, validation_data = (testData, testTarget), epochs = 1, batch_size = 32)\n",
        "\n",
        "\n",
        "# accuracy, precision, recall, f1 = evaluate_model(model, testData, testTarget)\n",
        "# score = ['BiLSTM', 2, 0.2, accuracy, precision, recall, f1]\n",
        "\n",
        "# results = pd.DataFrame([score], columns = ['Model', 'Layers', 'Dropout Rate', 'Accuracy', 'Precision', 'Recall', 'F1'])"
      ],
      "metadata": {
        "colab": {
          "base_uri": "https://localhost:8080/"
        },
        "id": "N1sqoDXLuxwl",
        "outputId": "cee9776a-2ea0-4fe2-aabf-ac7c9314bafd"
      },
      "execution_count": null,
      "outputs": [
        {
          "output_type": "stream",
          "name": "stdout",
          "text": [
            "1172/1172 [==============================] - 646s 551ms/step - loss: 0.3924 - accuracy: 0.8231 - val_loss: 0.3762 - val_accuracy: 0.8288\n"
          ]
        },
        {
          "output_type": "execute_result",
          "data": {
            "text/plain": [
              "<keras.src.callbacks.History at 0x7afccca476a0>"
            ]
          },
          "metadata": {},
          "execution_count": 46
        }
      ]
    },
    {
      "cell_type": "code",
      "source": [
        "# Saving our model results for future use\n",
        "modelData = {\n",
        "    'tokenizer': tokenizer,\n",
        "    'max_seq_length': max_seq_length,\n",
        "    'model': model\n",
        "}\n",
        "\n",
        "import pickle\n",
        "with open('urduSentiModel', 'wb') as file:\n",
        "    pickle.dump(modelData, file)"
      ],
      "metadata": {
        "id": "X1SMnqh-em5k"
      },
      "execution_count": null,
      "outputs": []
    },
    {
      "cell_type": "code",
      "source": [
        "# Predicting the sentiment of a new review\n",
        "def predict_sentiment(review):\n",
        "    sequence = tokenizer.texts_to_sequences([review])\n",
        "    padded_sequence = pad_sequences(sequence, maxlen=max_seq_length, padding='post')\n",
        "    prediction = model.predict(padded_sequence)\n",
        "    return np.round(prediction[0])\n",
        "\n"
      ],
      "metadata": {
        "id": "TAe7BXitr7r1"
      },
      "execution_count": null,
      "outputs": []
    },
    {
      "cell_type": "code",
      "source": [
        "accuracy, precision, recall, f1 = evaluate_model(model, testData, testTarget)\n",
        "score = ['BiLSTM', 3, 0.3, accuracy, precision, recall, f1]\n",
        "results = pd.DataFrame([score], columns = ['Model', 'Layers', 'Dropout Rate', 'Accuracy', 'Precision', 'Recall', 'F1'])\n",
        "results"
      ],
      "metadata": {
        "id": "-V_Xu5VWr9W4"
      },
      "execution_count": null,
      "outputs": []
    },
    {
      "cell_type": "code",
      "source": [
        "predictions = model.predict(padded_sequences)\n",
        "predictions = np.round(predictions)"
      ],
      "metadata": {
        "colab": {
          "base_uri": "https://localhost:8080/"
        },
        "id": "yPhlA8rJsAvH",
        "outputId": "1ce83ec3-f6de-4d03-e38d-ff62298240fc"
      },
      "execution_count": null,
      "outputs": [
        {
          "output_type": "stream",
          "name": "stdout",
          "text": [
            "1563/1563 [==============================] - 314s 201ms/step\n"
          ]
        }
      ]
    },
    {
      "cell_type": "code",
      "source": [
        "\n",
        "# Generate graph of confusion matrix\n",
        "import matplotlib.pyplot as plt\n",
        "import seaborn as sns\n",
        "\n",
        "cm = confusion_matrix(encoded_labels, predictions)\n",
        "plt.figure(figsize=(12, 8))\n",
        "sns.heatmap(cm, annot=True, fmt='d', cmap='Blues')\n",
        "plt.xlabel('Predicted')\n",
        "plt.ylabel('Actual')\n",
        "plt.show()\n"
      ],
      "metadata": {
        "colab": {
          "base_uri": "https://localhost:8080/",
          "height": 696
        },
        "id": "k_X6MJxisB0h",
        "outputId": "f24afd6b-74b2-4571-b6b0-b078c540d3eb"
      },
      "execution_count": null,
      "outputs": [
        {
          "output_type": "display_data",
          "data": {
            "text/plain": [
              "<Figure size 1200x800 with 2 Axes>"
            ],
            "image/png": "[encoded data removed]"
          },
          "metadata": {}
        }
      ]
    },
    {
      "cell_type": "code",
      "source": [
        "# Give some examples of the model's predictions where the model incorrectly predicted 1\n",
        "incorrect_predictions = df[(encoded_labels == 1) & (predictions.flatten() == 0)]\n",
        "incorrect_predictions.head()\n"
      ],
      "metadata": {
        "colab": {
          "base_uri": "https://localhost:8080/",
          "height": 206
        },
        "id": "XOFKArZ9sDak",
        "outputId": "8107de50-72d0-4dde-8611-1464e065a510"
      },
      "execution_count": null,
      "outputs": [
        {
          "output_type": "execute_result",
          "data": {
            "text/plain": [
              "                                                 text     label  \\\n",
              "5   یہ کولمبو ہے جس کی ہدایتکاری اپنے کیریئر کے اب...  positive   \n",
              "7   ٹھیک ہے ، شاید یہ آسکر کا مستحق نہیں ہے۔ یا گو...  positive   \n",
              "45  واقعی پریشان کن ہوتا ہے جب اس جیسی اچھی فلمیں ...  positive   \n",
              "66  سچ ہے ، یہ کتاب کی بہت قریب سے پیروی نہیں کرتی...  positive   \n",
              "79  اس فلم میں وہ سب کچھ موجود ہے جو ایک خراب فلم ...  positive   \n",
              "\n",
              "                                    preprocessed_text  \n",
              "5   یہ کولمبو ہے جس کی ہدایتکاری اپنے کیریئر کے اب...  \n",
              "7   ٹھیک ہے  شاید یہ آسکر کا مستحق نہیں ہے یا گولڈ...  \n",
              "45  واقعی پریشان کن ہوتا ہے جب اس جیسی اچھی فلمیں ...  \n",
              "66  سچ ہے  یہ کتاب کی بہت قریب سے پیروی نہیں کرتی ...  \n",
              "79  اس فلم میں وہ سب کچھ موجود ہے جو ایک خراب فلم ...  "
            ],
            "text/html": [
              "\n",
              "  <div id=\"df-0538aead-35de-4465-881e-8d6b26f254bf\" class=\"colab-df-container\">\n",
              "    <div>\n",
              "<style scoped>\n",
              "    .dataframe tbody tr th:only-of-type {\n",
              "        vertical-align: middle;\n",
              "    }\n",
              "\n",
              "    .dataframe tbody tr th {\n",
              "        vertical-align: top;\n",
              "    }\n",
              "\n",
              "    .dataframe thead th {\n",
              "        text-align: right;\n",
              "    }\n",
              "</style>\n",
              "<table border=\"1\" class=\"dataframe\">\n",
              "  <thead>\n",
              "    <tr style=\"text-align: right;\">\n",
              "      <th></th>\n",
              "      <th>text</th>\n",
              "      <th>label</th>\n",
              "      <th>preprocessed_text</th>\n",
              "    </tr>\n",
              "  </thead>\n",
              "  <tbody>\n",
              "    <tr>\n",
              "      <th>5</th>\n",
              "      <td>یہ کولمبو ہے جس کی ہدایتکاری اپنے کیریئر کے اب...</td>\n",
              "      <td>positive</td>\n",
              "      <td>یہ کولمبو ہے جس کی ہدایتکاری اپنے کیریئر کے اب...</td>\n",
              "    </tr>\n",
              "    <tr>\n",
              "      <th>7</th>\n",
              "      <td>ٹھیک ہے ، شاید یہ آسکر کا مستحق نہیں ہے۔ یا گو...</td>\n",
              "      <td>positive</td>\n",
              "      <td>ٹھیک ہے  شاید یہ آسکر کا مستحق نہیں ہے یا گولڈ...</td>\n",
              "    </tr>\n",
              "    <tr>\n",
              "      <th>45</th>\n",
              "      <td>واقعی پریشان کن ہوتا ہے جب اس جیسی اچھی فلمیں ...</td>\n",
              "      <td>positive</td>\n",
              "      <td>واقعی پریشان کن ہوتا ہے جب اس جیسی اچھی فلمیں ...</td>\n",
              "    </tr>\n",
              "    <tr>\n",
              "      <th>66</th>\n",
              "      <td>سچ ہے ، یہ کتاب کی بہت قریب سے پیروی نہیں کرتی...</td>\n",
              "      <td>positive</td>\n",
              "      <td>سچ ہے  یہ کتاب کی بہت قریب سے پیروی نہیں کرتی ...</td>\n",
              "    </tr>\n",
              "    <tr>\n",
              "      <th>79</th>\n",
              "      <td>اس فلم میں وہ سب کچھ موجود ہے جو ایک خراب فلم ...</td>\n",
              "      <td>positive</td>\n",
              "      <td>اس فلم میں وہ سب کچھ موجود ہے جو ایک خراب فلم ...</td>\n",
              "    </tr>\n",
              "  </tbody>\n",
              "</table>\n",
              "</div>\n",
              "    <div class=\"colab-df-buttons\">\n",
              "\n",
              "  <div class=\"colab-df-container\">\n",
              "    <button class=\"colab-df-convert\" onclick=\"convertToInteractive('df-0538aead-35de-4465-881e-8d6b26f254bf')\"\n",
              "            title=\"Convert this dataframe to an interactive table.\"\n",
              "            style=\"display:none;\">\n",
              "\n",
              "  <svg xmlns=\"http://www.w3.org/2000/svg\" height=\"24px\" viewBox=\"0 -960 960 960\">\n",
              "    <path d=\"M120-120v-720h720v720H120Zm60-500h600v-160H180v160Zm220 220h160v-160H400v160Zm0 220h160v-160H400v160ZM180-400h160v-160H180v160Zm440 0h160v-160H620v160ZM180-180h160v-160H180v160Zm440 0h160v-160H620v160Z\"/>\n",
              "  </svg>\n",
              "    </button>\n",
              "\n",
              "  <style>\n",
              "    .colab-df-container {\n",
              "      display:flex;\n",
              "      gap: 12px;\n",
              "    }\n",
              "\n",
              "    .colab-df-convert {\n",
              "      background-color: #E8F0FE;\n",
              "      border: none;\n",
              "      border-radius: 50%;\n",
              "      cursor: pointer;\n",
              "      display: none;\n",
              "      fill: #1967D2;\n",
              "      height: 32px;\n",
              "      padding: 0 0 0 0;\n",
              "      width: 32px;\n",
              "    }\n",
              "\n",
              "    .colab-df-convert:hover {\n",
              "      background-color: #E2EBFA;\n",
              "      box-shadow: 0px 1px 2px rgba(60, 64, 67, 0.3), 0px 1px 3px 1px rgba(60, 64, 67, 0.15);\n",
              "      fill: #174EA6;\n",
              "    }\n",
              "\n",
              "    .colab-df-buttons div {\n",
              "      margin-bottom: 4px;\n",
              "    }\n",
              "\n",
              "    [theme=dark] .colab-df-convert {\n",
              "      background-color: #3B4455;\n",
              "      fill: #D2E3FC;\n",
              "    }\n",
              "\n",
              "    [theme=dark] .colab-df-convert:hover {\n",
              "      background-color: #434B5C;\n",
              "      box-shadow: 0px 1px 3px 1px rgba(0, 0, 0, 0.15);\n",
              "      filter: drop-shadow(0px 1px 2px rgba(0, 0, 0, 0.3));\n",
              "      fill: #FFFFFF;\n",
              "    }\n",
              "  </style>\n",
              "\n",
              "    <script>\n",
              "      const buttonEl =\n",
              "        document.querySelector('#df-0538aead-35de-4465-881e-8d6b26f254bf button.colab-df-convert');\n",
              "      buttonEl.style.display =\n",
              "        google.colab.kernel.accessAllowed ? 'block' : 'none';\n",
              "\n",
              "      async function convertToInteractive(key) {\n",
              "        const element = document.querySelector('#df-0538aead-35de-4465-881e-8d6b26f254bf');\n",
              "        const dataTable =\n",
              "          await google.colab.kernel.invokeFunction('convertToInteractive',\n",
              "                                                    [key], {});\n",
              "        if (!dataTable) return;\n",
              "\n",
              "        const docLinkHtml = 'Like what you see? Visit the ' +\n",
              "          '<a target=\"_blank\" href=https://colab.research.google.com/notebooks/data_table.ipynb>data table notebook</a>'\n",
              "          + ' to learn more about interactive tables.';\n",
              "        element.innerHTML = '';\n",
              "        dataTable['output_type'] = 'display_data';\n",
              "        await google.colab.output.renderOutput(dataTable, element);\n",
              "        const docLink = document.createElement('div');\n",
              "        docLink.innerHTML = docLinkHtml;\n",
              "        element.appendChild(docLink);\n",
              "      }\n",
              "    </script>\n",
              "  </div>\n",
              "\n",
              "\n",
              "<div id=\"df-e726ac4b-8ae2-41aa-bcf7-a4b8b391ee20\">\n",
              "  <button class=\"colab-df-quickchart\" onclick=\"quickchart('df-e726ac4b-8ae2-41aa-bcf7-a4b8b391ee20')\"\n",
              "            title=\"Suggest charts\"\n",
              "            style=\"display:none;\">\n",
              "\n",
              "<svg xmlns=\"http://www.w3.org/2000/svg\" height=\"24px\"viewBox=\"0 0 24 24\"\n",
              "     width=\"24px\">\n",
              "    <g>\n",
              "        <path d=\"M19 3H5c-1.1 0-2 .9-2 2v14c0 1.1.9 2 2 2h14c1.1 0 2-.9 2-2V5c0-1.1-.9-2-2-2zM9 17H7v-7h2v7zm4 0h-2V7h2v10zm4 0h-2v-4h2v4z\"/>\n",
              "    </g>\n",
              "</svg>\n",
              "  </button>\n",
              "\n",
              "<style>\n",
              "  .colab-df-quickchart {\n",
              "      --bg-color: #E8F0FE;\n",
              "      --fill-color: #1967D2;\n",
              "      --hover-bg-color: #E2EBFA;\n",
              "      --hover-fill-color: #174EA6;\n",
              "      --disabled-fill-color: #AAA;\n",
              "      --disabled-bg-color: #DDD;\n",
              "  }\n",
              "\n",
              "  [theme=dark] .colab-df-quickchart {\n",
              "      --bg-color: #3B4455;\n",
              "      --fill-color: #D2E3FC;\n",
              "      --hover-bg-color: #434B5C;\n",
              "      --hover-fill-color: #FFFFFF;\n",
              "      --disabled-bg-color: #3B4455;\n",
              "      --disabled-fill-color: #666;\n",
              "  }\n",
              "\n",
              "  .colab-df-quickchart {\n",
              "    background-color: var(--bg-color);\n",
              "    border: none;\n",
              "    border-radius: 50%;\n",
              "    cursor: pointer;\n",
              "    display: none;\n",
              "    fill: var(--fill-color);\n",
              "    height: 32px;\n",
              "    padding: 0;\n",
              "    width: 32px;\n",
              "  }\n",
              "\n",
              "  .colab-df-quickchart:hover {\n",
              "    background-color: var(--hover-bg-color);\n",
              "    box-shadow: 0 1px 2px rgba(60, 64, 67, 0.3), 0 1px 3px 1px rgba(60, 64, 67, 0.15);\n",
              "    fill: var(--button-hover-fill-color);\n",
              "  }\n",
              "\n",
              "  .colab-df-quickchart-complete:disabled,\n",
              "  .colab-df-quickchart-complete:disabled:hover {\n",
              "    background-color: var(--disabled-bg-color);\n",
              "    fill: var(--disabled-fill-color);\n",
              "    box-shadow: none;\n",
              "  }\n",
              "\n",
              "  .colab-df-spinner {\n",
              "    border: 2px solid var(--fill-color);\n",
              "    border-color: transparent;\n",
              "    border-bottom-color: var(--fill-color);\n",
              "    animation:\n",
              "      spin 1s steps(1) infinite;\n",
              "  }\n",
              "\n",
              "  @keyframes spin {\n",
              "    0% {\n",
              "      border-color: transparent;\n",
              "      border-bottom-color: var(--fill-color);\n",
              "      border-left-color: var(--fill-color);\n",
              "    }\n",
              "    20% {\n",
              "      border-color: transparent;\n",
              "      border-left-color: var(--fill-color);\n",
              "      border-top-color: var(--fill-color);\n",
              "    }\n",
              "    30% {\n",
              "      border-color: transparent;\n",
              "      border-left-color: var(--fill-color);\n",
              "      border-top-color: var(--fill-color);\n",
              "      border-right-color: var(--fill-color);\n",
              "    }\n",
              "    40% {\n",
              "      border-color: transparent;\n",
              "      border-right-color: var(--fill-color);\n",
              "      border-top-color: var(--fill-color);\n",
              "    }\n",
              "    60% {\n",
              "      border-color: transparent;\n",
              "      border-right-color: var(--fill-color);\n",
              "    }\n",
              "    80% {\n",
              "      border-color: transparent;\n",
              "      border-right-color: var(--fill-color);\n",
              "      border-bottom-color: var(--fill-color);\n",
              "    }\n",
              "    90% {\n",
              "      border-color: transparent;\n",
              "      border-bottom-color: var(--fill-color);\n",
              "    }\n",
              "  }\n",
              "</style>\n",
              "\n",
              "  <script>\n",
              "    async function quickchart(key) {\n",
              "      const quickchartButtonEl =\n",
              "        document.querySelector('#' + key + ' button');\n",
              "      quickchartButtonEl.disabled = true;  // To prevent multiple clicks.\n",
              "      quickchartButtonEl.classList.add('colab-df-spinner');\n",
              "      try {\n",
              "        const charts = await google.colab.kernel.invokeFunction(\n",
              "            'suggestCharts', [key], {});\n",
              "      } catch (error) {\n",
              "        console.error('Error during call to suggestCharts:', error);\n",
              "      }\n",
              "      quickchartButtonEl.classList.remove('colab-df-spinner');\n",
              "      quickchartButtonEl.classList.add('colab-df-quickchart-complete');\n",
              "    }\n",
              "    (() => {\n",
              "      let quickchartButtonEl =\n",
              "        document.querySelector('#df-e726ac4b-8ae2-41aa-bcf7-a4b8b391ee20 button');\n",
              "      quickchartButtonEl.style.display =\n",
              "        google.colab.kernel.accessAllowed ? 'block' : 'none';\n",
              "    })();\n",
              "  </script>\n",
              "</div>\n",
              "\n",
              "    </div>\n",
              "  </div>\n"
            ],
            "application/vnd.google.colaboratory.intrinsic+json": {
              "type": "dataframe",
              "variable_name": "incorrect_predictions",
              "summary": "{\n  \"name\": \"incorrect_predictions\",\n  \"rows\": 2996,\n  \"fields\": [\n    {\n      \"column\": \"text\",\n      \"properties\": {\n        \"dtype\": \"string\",\n        \"num_unique_values\": 2980,\n        \"samples\": [\n          \"\\u06a9\\u06cc\\u0627 \\u06a9\\u0633\\u06cc \\u06a9\\u0648 \\u0645\\u0639\\u0644\\u0648\\u0645 \\u06c1\\u06d2 \\u06a9\\u06c1 \\u0627\\u0633 \\u0641\\u0644\\u0645 \\u06a9\\u06cc \\u0634\\u0648\\u0679\\u0646\\u06af \\u06a9\\u06c1\\u0627\\u06ba \\u06a9\\u06cc \\u06af\\u0626\\u06cc \\u06c1\\u06d2\\u061f \\u067e\\u06c1\\u0627\\u0691 \\u067e\\u0631 \\u06c1\\u0648\\u0627 \\u0628\\u0627\\u0632\\u06cc \\u06a9\\u0627 \\u0645\\u0646\\u0638\\u0631 \\u062e\\u0648\\u0628\\u0635\\u0648\\u0631\\u062a \\u06c1\\u06d2\\u06d4 \\u06cc\\u06c1 \\u0627\\u0646\\u06af\\u0644\\u06cc\\u0646\\u0688 \\u0644\\u06af\\u062a\\u0627 \\u06c1\\u06d2\\u06d4 \\u062a\\u0627\\u06c1\\u0645 \\u060c \\u0622\\u0626\\u06cc\\u0648\\u06cc \\u06a9\\u06d2 \\u0627\\u067e\\u0627\\u0631\\u0679\\u0645\\u0646\\u0679 \\u06a9\\u06cc \\u0639\\u0645\\u0627\\u0631\\u062a \\u06cc\\u0642\\u06cc\\u0646\\u06cc \\u0637\\u0648\\u0631 \\u067e\\u0631 \\u0628\\u0631\\u0644 \\u0628\\u0644\\u0688\\u0646\\u06af \\u06a9\\u06cc \\u0637\\u0631\\u062d \\u0646\\u0638\\u0631 \\u0622\\u062a\\u06cc \\u06c1\\u06d2 \\u060c \\u062c\\u0633 \\u0645\\u06cc\\u06ba \\u0627\\u0633 \\u06a9\\u06cc \\u062f\\u0644\\u0686\\u0633\\u067e \\u0644\\u0641\\u0679\\u06cc\\u06ba \\u06c1\\u06cc\\u06ba\\u06d4 \\u0686\\u0627\\u0631\\u0644\\u0633 \\u0645\\u06cc\\u0646\\u0688\\u0644 \\\"\\u0633\\u0631 \\u0686\\u0627\\u0631\\u0644\\u0633 \\u06af\\u06cc\\u062c\\\" \\u06a9\\u06d2 \\u06a9\\u06be\\u06cc\\u0644 \\u06a9\\u06d2 \\u0637\\u0648\\u0631 \\u067e\\u0631 \\u062f\\u0631\\u062c \\u06c1\\u06d2\\u06d4 \\u0634\\u0627\\u06cc\\u062f \\u0645\\u06cc\\u06ba \\u0646\\u06d2 \\u067e\\u0644\\u06a9 \\u062c\\u06be\\u067e\\u06a9 \\u062f\\u06cc \\u060c \\u0644\\u06cc\\u06a9\\u0646 \\u0645\\u06cc\\u06ba \\u0646\\u06d2 \\u0627\\u0633\\u06d2 \\u06a9\\u0628\\u06be\\u06cc \\u0646\\u06c1\\u06cc\\u06ba \\u062f\\u06cc\\u06a9\\u06be\\u0627\\u06d4 \\u0634\\u0627\\u06cc\\u062f \\u0648\\u06c1 \\u0634\\u0648\\u06c1\\u0631 \\u06a9\\u0627 \\u0648\\u06a9\\u06cc\\u0644 \\u062a\\u06be\\u0627 \\u060c \\u0644\\u06cc\\u06a9\\u0646 \\u060c \\u0645\\u062c\\u06be\\u06d2 \\u067e\\u06be\\u0631 \\u0633\\u06d2 \\u0641\\u0644\\u0645 \\u0645\\u06cc\\u06ba \\u0648\\u06c1 \\u06a9\\u0631\\u062f\\u0627\\u0631 \\u06cc\\u0627\\u062f \\u0646\\u06c1\\u06cc\\u06ba \\u0622\\u0631\\u06c1\\u0627 \\u060c \\u0627\\u0633 \\u06a9\\u06d2 \\u0639\\u0644\\u0627\\u0648\\u06c1 \\u06a9\\u0633\\u06cc \\u0646\\u06d2 \\u0641\\u0648\\u0646 \\u06a9\\u0627\\u0644 \\u06a9\\u0631\\u0646\\u06d2 \\u06a9\\u0627 \\u0630\\u06a9\\u0631 \\u06a9\\u06cc\\u0627 \\u06c1\\u06d2\\u06d4 \\u0634\\u0627\\u06cc\\u062f \\u0648\\u06c1 \\u06c1\\u0648\\u0627 \\u0628\\u0627\\u0632\\u06cc \\u06a9\\u06d2 \\u0645\\u0646\\u0638\\u0631 \\u0645\\u06cc\\u06ba \\u062a\\u06be\\u0627\\u061f \\u06cc\\u0627 \\u0628\\u0627\\u0644 \\u0631\\u0648\\u0645 \\u06a9\\u0627 \\u0645\\u0646\\u0638\\u0631\\u061f \\u06a9\\u06cc\\u0627 \\u06a9\\u0633\\u06cc \\u0646\\u06d2 \\u0627\\u0633\\u06d2 \\u062f\\u06cc\\u06a9\\u06be\\u0627\\u061f \\u06c1\\u0631\\u0628\\u0631\\u0679 \\u0645\\u0627\\u0631\\u0634\\u0644 57 \\u0633\\u0627\\u0644 \\u06a9\\u06d2 \\u062a\\u06be\\u06d2 \\u062c\\u0628 \\u0627\\u0646\\u06c1\\u0648\\u06ba \\u0646\\u06d2 \\u0627\\u0633 \\u0641\\u0644\\u0645 \\u06a9\\u06cc \\u0634\\u0648\\u0679\\u0646\\u06af \\u06a9\\u06cc\\u06d4\",\n          \"\\u0679\\u06be\\u06cc\\u06a9 \\u06c1\\u06d2 \\u060c \\u0644\\u06c1\\u0630\\u0627 FX \\u0627\\u0639\\u0644\\u06cc \\u0628\\u062c\\u0679 \\u0646\\u06c1\\u06cc\\u06ba \\u06c1\\u06d2\\u06d4 \\u0644\\u06cc\\u06a9\\u0646 \\u06cc\\u06c1 \\u06a9\\u06c1\\u0627\\u0646\\u06cc \\u0627\\u0635\\u0644 \\u0648\\u0627\\u0642\\u0639\\u0627\\u062a \\u067e\\u0631 \\u0645\\u0628\\u0646\\u06cc \\u06c1\\u06d2\\u06d4 \\u06a9\\u0686\\u06be \\u0645\\u062a\\u0645\\u0648\\u0644 \\u0627\\u062f\\u0627\\u06a9\\u0627\\u0631 \\u060c \\u06cc\\u06c1\\u0627\\u06ba \\u062a\\u06a9 \\u06a9\\u06c1 \\u0632\\u06cc\\u0627\\u062f\\u06c1 \\u0627\\u0645\\u06cc\\u0631 \\u0628\\u0646\\u0627\\u0646\\u06d2 \\u06a9\\u06d2 \\u0644\\u0626\\u06d2 \\u0627\\u06cc\\u06a9 \\u0633\\u0627\\u062a\\u06be \\u0646\\u06c1\\u06cc\\u06ba \\u067e\\u06be\\u06cc\\u0646\\u06a9\\u0627 \\u06af\\u06cc\\u0627 !! \\u0686\\u0648\\u0646\\u06a9\\u06c1 \\u0632\\u06cc\\u0627\\u062f\\u06c1 \\u062a\\u0631 \\u0641\\u0644\\u0645\\u06cc\\u06ba \\u062c\\u0648 \\u06a9\\u062a\\u0627\\u0628\\u0648\\u06ba \\u067e\\u0631 \\u0645\\u0628\\u0646\\u06cc \\u06c1\\u06cc\\u06ba \\u060c \\u06a9\\u0686\\u06be \\u0627\\u06cc\\u0633\\u06cc \\u0628\\u0627\\u062a\\u06cc\\u06ba \\u06c1\\u06cc\\u06ba \\u062c\\u0648 \\u0635\\u0631\\u0641 \\u0641\\u0679 \\u0646\\u06c1\\u06cc\\u06ba \\u0628\\u06cc\\u0679\\u06be\\u062a\\u06cc \\u06c1\\u06cc\\u06ba\\u06d4 \\u0635\\u0631\\u0641 \\u0627\\u06cc\\u06a9 \\u062f\\u0648 \\u0644\\u0648\\u06af\\u0648\\u06ba \\u0646\\u06d2 \\u0628\\u062a\\u0627\\u06cc\\u0627 \\u06c1\\u06d2 \\u06a9\\u06c1 \\u06cc\\u06c1 \\u0641\\u0644\\u0645 \\u062d\\u0642\\u06cc\\u0642\\u06cc \\u0648\\u0627\\u0642\\u0639\\u0627\\u062a \\u067e\\u0631 \\u0645\\u0628\\u0646\\u06cc \\u062a\\u06be\\u06cc \\u060c \\u062f\\u0633\\u062a\\u06a9 \\u0646\\u06c1\\u06cc\\u06ba \\u062a\\u06be\\u06cc \\u06a9\\u06cc\\u0648\\u0646\\u06a9\\u06c1 \\u0632\\u06cc\\u0627\\u062f\\u06c1 \\u062a\\u0631 \\u0644\\u0648\\u06af \\u06cc\\u0642\\u06cc\\u0646 \\u06a9\\u0631\\u062a\\u06d2 \\u06c1\\u06cc\\u06ba \\u06a9\\u06c1 \\u06cc\\u06c1 \\u06c1\\u06d2 !! \\u0627\\u0633 \\u0641\\u0644\\u0645 \\u06a9\\u0627 \\u06a9\\u0648\\u0626\\u06cc \\u062a\\u0639\\u0644\\u0642 \\u0646\\u06c1\\u06cc\\u06ba \\u06c1\\u06d2 \\u062f\\u0648\\u0646\\u0648\\u06ba \\u06c1\\u06cc \\u0641\\u0644\\u0645\\u0648\\u06ba \\u06a9\\u06d2 \\u0639\\u0644\\u0627\\u0648\\u06c1 \\u060c \\u0637\\u0648\\u0641\\u0627\\u0646 \\u06a9\\u06d2 \\u0628\\u0627\\u0631\\u06d2 \\u0645\\u06cc\\u06ba \\u06c1\\u06cc\\u06ba\\u06d4 \\u0622\\u067e \\u0645\\u06cc\\u06ba \\u0633\\u06d2 \\u062c\\u0646 \\u0644\\u0648\\u06af\\u0648\\u06ba \\u06a9\\u0648 \\u0641\\u0644\\u0645 \\u0645\\u06cc\\u06ba \\u0637\\u0648\\u0641\\u0627\\u0646 \\u0627\\u0648\\u0631 \\u0637\\u0648\\u0641\\u0627\\u0646 \\u06a9\\u06cc \\u0633\\u0627\\u0626\\u0646\\u0633 \\u0633\\u06d2 \\u067e\\u0631\\u06cc\\u0634\\u0627\\u0646\\u06cc \\u06c1\\u06d2 \\u060c \\u0627\\u0633 \\u06a9\\u06d2 \\u0644\\u0626\\u06d2 \\u0622\\u067e \\u06a9\\u0648 \\u06a9\\u0686\\u06be \\u062f\\u0648 \\u0686\\u06cc\\u0632\\u06cc\\u06ba \\u06cc\\u0627\\u062f \\u0631\\u06a9\\u06be\\u0646\\u06d2 \\u06a9\\u06cc \\u0636\\u0631\\u0648\\u0631\\u062a \\u06c1\\u06cc\\u06ba ... \\u0627\\u0635\\u0644 \\\"\\u0679\\u0648\\u0626\\u06cc\\u0679\\u0631\\u0632 \\u06a9\\u06cc \\u0631\\u0627\\u062a\\\" \\u062c\\u0648\\u0646 \\u062a\\u06be\\u06cc 3 \\u060c 1980. \\u0644\\u06c1\\u0630\\u0627 \\u06cc\\u06c1 \\u0641\\u0644\\u0645 \\u062d\\u0642\\u06cc\\u0642\\u06cc \\u0648\\u0627\\u0642\\u0639\\u0627\\u062a \\u06a9\\u06d2 16 \\u0633\\u0627\\u0644 \\u0628\\u0639\\u062f \\u0631\\u06cc\\u0644\\u06cc\\u0632 \\u06c1\\u0648\\u0626\\u06cc\\u06d4 \\u0633\\u0648\\u0686\\u0646\\u06d2 \\u06a9\\u06cc \\u06a9\\u0648\\u0634\\u0634 \\u06a9\\u0631\\u06cc\\u06ba \\u06a9\\u06c1 \\u0627\\u0633 \\u0648\\u0642\\u062a \\u0637\\u0648\\u0641\\u0627\\u0646 \\u06a9\\u06cc \\u062a\\u062d\\u0642\\u06cc\\u0642 \\u06a9\\u062a\\u0646\\u06cc \\u0622\\u06af\\u06d2 \\u0628\\u0691\\u06be\\u06cc \\u06c1\\u06d2\\u06d4 \\u06cc\\u06c1 \\u0627\\u06cc\\u06a9 \\u0628\\u0691\\u06d2 \\u0634\\u06c1\\u0631 \\u0645\\u06cc\\u06ba \\u06c1\\u0648\\u0627\\u06d4 \\u06af\\u0631\\u06cc\\u0646\\u0688 \\u0622\\u0626\\u06cc \\u0644\\u06cc\\u0646\\u0688 \\u060c \\u0646\\u06cc\\u0628\\u0631\\u0627\\u0633\\u06a9\\u0627 \\u0631\\u06cc\\u0627\\u0633\\u062a \\u06a9\\u0627 \\u062a\\u06cc\\u0633\\u0631\\u0627 \\u0628\\u0691\\u0627 \\u0634\\u06c1\\u0631 \\u06c1\\u06d2\\u06d4 \\u0627\\u06af\\u0631\\u0686\\u06c1 \\u0645\\u0648\\u0648\\u06cc \\u0634\\u06c1\\u0631 \\u06a9\\u0648 \\u06a9\\u0686\\u06be \\u0627\\u0648\\u0631 \\u06c1\\u06cc \\u06a9\\u06c1\\u062a\\u06d2 \\u06c1\\u06cc\\u06ba \\u060c \\u0627\\u0648\\u0631 \\u06a9\\u06c1\\u062a\\u06d2 \\u06c1\\u06cc\\u06ba \\u06a9\\u06c1 \\u06cc\\u06c1 \\u0627\\u06cc\\u06a9 \\u0686\\u06be\\u0648\\u0679\\u0627 \\u0633\\u0627 \\u0634\\u06c1\\u0631 \\u06c1\\u06d2\\u06d4 \\u0627\\u0635\\u0644 \\u06a9\\u06c1\\u0627\\u0646\\u06cc \\u06a9\\u06d2 \\u0644\\u0626\\u06d2 \\u062f\\u06cc\\u06a9\\u06be\\u06cc\\u06ba: http://www.gitwister.com/\",\n          \"\\u0628\\u06d2 \\u06af\\u06be\\u0631 \\u06c1\\u0648\\u0646\\u0627 (\\u06cc\\u0627 \\u062c\\u06cc\\u0633\\u0627 \\u06a9\\u06c1 \\u062c\\u0627\\u0631\\u062c \\u06a9\\u0627\\u0631\\u0644\\u0646 \\u0646\\u06d2 \\u0628\\u06cc\\u0627\\u0646 \\u06a9\\u06cc\\u0627 \\u0628\\u06d2 \\u06af\\u06be\\u0631) \\u0628\\u0631\\u0633\\u0648\\u06ba \\u0633\\u06d2 \\u0627\\u06cc\\u06a9 \\u0645\\u0633\\u0626\\u0644\\u06c1 \\u0631\\u06c1\\u0627 \\u06c1\\u06d2 \\u0644\\u06cc\\u06a9\\u0646 \\u06a9\\u0628\\u06be\\u06cc \\u0628\\u06be\\u06cc \\u0633\\u0691\\u06a9 \\u067e\\u0631 \\u0627\\u0646 \\u0644\\u0648\\u06af\\u0648\\u06ba \\u06a9\\u06cc \\u0645\\u062f\\u062f \\u06a9\\u0631\\u0646\\u06d2 \\u06a9\\u0627 \\u0645\\u0646\\u0635\\u0648\\u0628\\u06c1 \\u0646\\u06c1\\u06cc\\u06ba \\u062a\\u06be\\u0627 \\u062c\\u0648 \\u06a9\\u0628\\u06be\\u06cc \\u0627\\u0646\\u0633\\u0627\\u0646 \\u0633\\u0645\\u062c\\u06be\\u06d2 \\u062c\\u0627\\u062a\\u06d2 \\u062a\\u06be\\u06d2 \\u062c\\u0646\\u06c1\\u0648\\u06ba \\u0646\\u06d2 \\u0627\\u0633\\u06a9\\u0648\\u0644 \\u062c\\u0627\\u0646\\u06d2 \\u060c \\u06a9\\u0627\\u0645 \\u06a9\\u0631\\u0646\\u06d2 \\u060c \\u06cc\\u0627 \\u0627\\u0633 \\u0645\\u0639\\u0627\\u0645\\u0644\\u06d2 \\u0645\\u06cc\\u06ba \\u0648\\u0648\\u0679 \\u0688\\u0627\\u0644\\u0646\\u06d2 \\u0633\\u06d2 \\u06c1\\u0631 \\u06a9\\u0627\\u0645 \\u06a9\\u06cc\\u0627 \\u062a\\u06be\\u0627\\u06d4 \\u0646\\u0633\\u0644 \\u067e\\u0631\\u0633\\u062a\\u06cc \\u060c \\u0639\\u0631\\u0627\\u0642 \\u06a9\\u06d2 \\u062e\\u0644\\u0627\\u0641 \\u062c\\u0646\\u06af \\u060c \\u0628\\u0686\\u0648\\u06ba \\u067e\\u0631 \\u06a9\\u0627\\u0645\\u06cc\\u0627\\u0628\\u06cc \\u06a9\\u06d2 \\u0644\\u0626\\u06d2 \\u062f\\u0628\\u0627\\u0624 \\u0688\\u0627\\u0644\\u0646\\u06d2 \\u060c \\u0679\\u06a9\\u0646\\u0627\\u0644\\u0648\\u062c\\u06cc \\u060c \\u0627\\u0646\\u062a\\u062e\\u0627\\u0628\\u0627\\u062a \\u060c \\u0627\\u0641\\u0631\\u0627\\u0637 \\u0632\\u0631 \\u06cc\\u0627 \\u067e\\u0631\\u06cc\\u0634\\u0627\\u0646 \\u06c1\\u0648\\u0646\\u06d2 \\u06a9\\u06cc \\u0641\\u06a9\\u0631 \\u06a9\\u0631\\u062a\\u06d2 \\u06c1\\u0648\\u0626\\u06d2 \\u06cc\\u0627 \\u0628\\u06cc\\u0686 \\u0633\\u0691\\u06a9 \\u067e\\u0631 \\u062e\\u062a\\u0645 \\u06c1\\u0648\\u0646\\u06d2 \\u06a9\\u06d2 \\u0642\\u0631\\u06cc\\u0628 \\u06c1\\u0648\\u0646\\u06d2 \\u06a9\\u06cc \\u0641\\u06a9\\u0631 \\u06a9\\u0631\\u062a\\u06d2 \\u06c1\\u0648\\u0626\\u06d2 \\u0628\\u06cc\\u0634\\u062a\\u0631 \\u0627\\u0641\\u0631\\u0627\\u062f \\u0628\\u06d2 \\u06af\\u06be\\u0631 \\u0627\\u0641\\u0631\\u0627\\u062f \\u06a9\\u0648 \\u0645\\u062d\\u0636 \\u0627\\u06cc\\u06a9 \\u06af\\u0645\\u0634\\u062f\\u06c1 \\u0633\\u0628\\u0628 \\u0633\\u0645\\u062c\\u06be\\u062a\\u06d2 \\u06c1\\u06cc\\u06ba\\u06d4 .\\u0644\\u06cc\\u06a9\\u0646 \\u0627\\u06af\\u0631 \\u0622\\u067e \\u06a9\\u0648 \\u0627\\u06cc\\u06a9 \\u0628\\u0627\\u0631 \\u06af\\u06be\\u0631 \\u060c \\u062a\\u0641\\u0631\\u06cc\\u062d\\u06cc \\u0633\\u0627\\u0645\\u0627\\u0646 \\u060c \\u0628\\u0627\\u062a\\u06be \\u0631\\u0648\\u0645 \\u060c \\u062f\\u06cc\\u0648\\u0627\\u0631 \\u067e\\u0631 \\u062a\\u0635\\u0627\\u0648\\u06cc\\u0631 \\u060c \\u06a9\\u0645\\u067e\\u06cc\\u0648\\u0679\\u0631 \\u0627\\u0648\\u0631 \\u06c1\\u0631 \\u0686\\u06cc\\u0632 \\u0633\\u06d2 \\u0645\\u0644\\u0646\\u06d2 \\u0648\\u0627\\u0644\\u06cc \\u0622\\u0633\\u0627\\u0626\\u0634 \\u06a9\\u06d2 \\u0628\\u063a\\u06cc\\u0631 \\u0627\\u06cc\\u06a9 \\u0645\\u06c1\\u06cc\\u0646\\u06d2 \\u0633\\u0691\\u06a9\\u0648\\u06ba \\u067e\\u0631 \\u0631\\u06c1\\u0646\\u06d2 \\u06a9\\u0627 \\u0634\\u0631\\u0637 \\u0644\\u06af\\u0627 \\u062f\\u06cc\\u0627 \\u06af\\u06cc\\u0627 \\u06c1\\u0648 \\u062a\\u0648 \\u0622\\u067e \\u06a9\\u06cc\\u0627 \\u062f\\u06cc\\u06a9\\u06be \\u0633\\u06a9\\u062a\\u06d2 \\u06c1\\u06cc\\u06ba\\u06d4 \\u06cc\\u06c1 \\u0628\\u06d2 \\u06af\\u06be\\u0631 \\u06c1\\u0648\\u0646\\u06d2 \\u06a9\\u06cc \\u0637\\u0631\\u062d \\u06c1\\u06d2\\u061f \\u06cc\\u06c1 \\u06af\\u0648\\u0688\\u0627\\u0631\\u0688 \\u0628\\u0648\\u0644\\u0679 \\u06a9\\u0627 \\u0633\\u0628\\u0642 \\u06c1\\u06d2\\u06d4 \\u0645\\u06cc\\u0644 \\u0628\\u0631\\u0648\\u06a9\\u0633 (\\u062c\\u0648 \\u06c1\\u062f\\u0627\\u06cc\\u062a \\u06a9\\u0631\\u062a\\u0627 \\u06c1\\u06d2) \\u062c\\u0648 \\u0628\\u0648\\u0644\\u0679 \\u06a9\\u06d2 \\u0637\\u0648\\u0631 \\u067e\\u0631 \\u0627\\u062f\\u0627 \\u06a9\\u0631\\u062a\\u0627 \\u06c1\\u06d2 \\u062c\\u0633 \\u06a9\\u06d2 \\u067e\\u0627\\u0633 \\u062f\\u0646\\u06cc\\u0627 \\u0645\\u06cc\\u06ba \\u0633\\u0628 \\u06a9\\u0686\\u06be \\u0645\\u0648\\u062c\\u0648\\u062f \\u06c1\\u06d2 \\u062c\\u0628 \\u062a\\u06a9 \\u06a9\\u06c1 \\u0648\\u06c1 \\u0627\\u06cc\\u06a9 \\u0633\\u06cc \\u0633\\u06cc \\u062d\\u0631\\u06cc\\u0641 (\\u062c\\u06cc\\u0641\\u0631\\u06cc \\u0679\\u0645\\u0628\\u0631) \\u06a9\\u06d2 \\u0633\\u0627\\u062a\\u06be \\u0634\\u0631\\u0637 \\u0644\\u06af\\u0627\\u0646\\u06d2 \\u06a9\\u0627 \\u0641\\u06cc\\u0635\\u0644\\u06c1 \\u0646\\u06c1\\u06cc\\u06ba \\u06a9\\u0631\\u062a\\u0627 \\u06c1\\u06d2 \\u06a9\\u06c1 \\u0622\\u06cc\\u0627 \\u0648\\u06c1 \\u0633\\u0691\\u06a9\\u0648\\u06ba \\u067e\\u0631 \\u0631\\u06c1 \\u0633\\u06a9\\u062a\\u0627 \\u06c1\\u06d2 \\u06cc\\u0627 \\u0646\\u06c1\\u06cc\\u06ba\\u06d4 \\u062a\\u06cc\\u0633 \\u062f\\u0646 \\u0639\\u06cc\\u0634 \\u0648 \\u0622\\u0631\\u0627\\u0645 \\u06a9\\u06d2 \\u0628\\u063a\\u06cc\\u0631\\u061b \\u0627\\u06af\\u0631 \\u0628\\u0648\\u0644\\u0679 \\u06a9\\u0627\\u0645\\u06cc\\u0627\\u0628 \\u06c1\\u0648\\u062c\\u0627\\u062a\\u0627 \\u06c1\\u06d2 \\u062a\\u0648 \\u060c \\u0648\\u06c1 \\u0645\\u0633\\u062a\\u0642\\u0628\\u0644 \\u06a9\\u06cc \\u0645\\u0632\\u06cc\\u062f \\u0639\\u0645\\u0627\\u0631\\u062a\\u06cc\\u06ba \\u0628\\u0646\\u0627\\u0646\\u06d2 \\u06a9\\u06d2 \\u0645\\u0646\\u0635\\u0648\\u0628\\u06d2 \\u06a9\\u06d2 \\u0633\\u0627\\u062a\\u06be \\u0648\\u06c1 \\u06a9\\u06cc\\u0627 \\u06a9\\u0631\\u0633\\u06a9\\u062a\\u0627 \\u06c1\\u06d2\\u06d4 \\u0627\\u0633 \\u0628\\u0627\\u062a \\u067e\\u0631 \\u0634\\u0631\\u0637 \\u06c1\\u06d2 \\u06a9\\u06c1 \\u0628\\u0648\\u0644\\u0679 \\u06a9\\u0648 \\u0627\\u0633 \\u06a9\\u06cc \\u0679\\u0627\\u0646\\u06af \\u067e\\u0631 \\u06a9\\u0691\\u0627 \\u0644\\u06af\\u0627 \\u06a9\\u0631 \\u0633\\u0691\\u06a9 \\u067e\\u0631 \\u067e\\u06be\\u06cc\\u0646\\u06a9 \\u062f\\u06cc\\u0627 \\u06af\\u06cc\\u0627 \\u06c1\\u06d2 \\u062a\\u0627\\u06a9\\u06c1 \\u0627\\u0633 \\u06a9\\u06cc \\u06c1\\u0631 \\u062d\\u0631\\u06a9\\u062a \\u06a9\\u06cc \\u0646\\u06af\\u0631\\u0627\\u0646\\u06cc \\u06a9\\u0631\\u06d2 \\u062c\\u06c1\\u0627\\u06ba \\u0648\\u06c1 \\u0641\\u0679 \\u067e\\u0627\\u062a\\u06be \\u0633\\u06d2 \\u0628\\u0627\\u06c1\\u0631 \\u0646\\u06c1\\u06cc\\u06ba \\u0646\\u06a9\\u0644 \\u0633\\u06a9\\u062a\\u0627\\u06d4 \\u0627\\u0633 \\u06a9\\u06d2 \\u0645\\u0627\\u062a\\u06be\\u06d2 \\u067e\\u0631 \\u0644\\u06a9\\u06be\\u06d2 \\u062c\\u0627\\u0646\\u06d2 \\u06a9\\u06d2 \\u0628\\u0639\\u062f \\u0627\\u0633 \\u0646\\u06d2 \\u067e\\u06cc\\u067e\\u0679\\u0648 \\u06a9\\u0627 \\u0644\\u0642\\u0628 \\u0627\\u06cc\\u06a9 \\u0628\\u062f\\u0645\\u0639\\u0627\\u0634 \\u06a9\\u06d2 \\u0646\\u0627\\u0645 \\u0633\\u06d2 \\u0645\\u0648\\u0633\\u0648\\u0645 \\u06a9\\u06cc\\u0627 \\u06c1\\u06d2 \\u062c\\u0628 \\u0627\\u0633 \\u06a9\\u06d2 \\u0645\\u0627\\u062a\\u06be\\u06d2 \\u067e\\u0631 \\u0644\\u06a9\\u06be\\u0627 \\u06af\\u06cc\\u0627 \\u06c1\\u06d2 \\u062c\\u06c1\\u0627\\u06ba \\u0628\\u0648\\u0644\\u0679 \\u062f\\u0648\\u0633\\u0631\\u06d2 \\u06a9\\u0631\\u062f\\u0627\\u0631\\u0648\\u06ba \\u0633\\u06d2 \\u0645\\u0644\\u062a\\u0627 \\u06c1\\u06d2 \\u062c\\u0633 \\u0645\\u06cc\\u06ba \\u0645\\u0648\\u0644\\u06cc (\\u0644\\u06cc\\u0633\\u0644\\u06cc \\u0627\\u06cc\\u0646 \\u0648\\u0627\\u0631\\u0646) \\u06a9\\u06d2 \\u0646\\u0627\\u0645 \\u0633\\u06d2 \\u0627\\u06cc\\u06a9 \\u0633\\u0627\\u0628\\u0642 \\u0688\\u0627\\u0646\\u0633\\u0631 \\u06c1\\u06d2 \\u062c\\u0633\\u06d2 \\u0627\\u067e\\u0646\\u0627 \\u06af\\u06be\\u0631 \\u06a9\\u06be\\u0648\\u0646\\u06d2 \\u0633\\u06d2 \\u067e\\u06c1\\u0644\\u06d2 \\u0637\\u0644\\u0627\\u0642 \\u06c1\\u0648\\u06af\\u0626\\u06cc \\u062a\\u06be\\u06cc \\u060c \\u0627\\u0648\\u0631 \\u0627\\u0633 \\u06a9\\u06cc \\u062f\\u0648\\u0633\\u062a \\u0633\\u06cc\\u0644\\u0631 (\\u06c1\\u0627\\u0648\\u0631\\u0688) \\u0645\\u0648\\u0631\\u0633) \\u0627\\u0648\\u0631 \\u062f\\u06be\\u0648\\u0626\\u06cc\\u06ba (\\u0679\\u06cc\\u0688\\u06cc \\u0648\\u0644\\u0633\\u0646) \\u062c\\u0648 \\u067e\\u06c1\\u0644\\u06d2 \\u06c1\\u06cc \\u0633\\u0691\\u06a9\\u0648\\u06ba \\u06a9\\u06d2 \\u0639\\u0627\\u062f\\u06cc \\u06c1\\u06cc\\u06ba\\u06d4 \\u0648\\u06c1 \\u0628\\u0686 \\u06af\\u0626\\u06d2 \\u06c1\\u06cc\\u06ba\\u06d4 \\u0628\\u0648\\u0644\\u0679 \\u0646\\u06c1\\u06cc\\u06ba \\u06c1\\u06d2\\u06d4 \\u0648\\u06c1 \\u0628\\u0627\\u06c1\\u0645\\u06cc \\u0645\\u0639\\u0627\\u06c1\\u062f\\u0648\\u06ba \\u06a9\\u0648 \\u062d\\u0627\\u0635\\u0644 \\u06a9\\u0631\\u0646\\u06d2 \\u06a9\\u0627 \\u0639\\u0627\\u062f\\u06cc \\u0646\\u06c1\\u06cc\\u06ba \\u06c1\\u06d2 \\u062c\\u06cc\\u0633\\u0627 \\u06a9\\u06c1 \\u0627\\u0633 \\u0646\\u06d2 \\u0627\\u06cc\\u06a9 \\u0628\\u0627\\u0631 \\u0645\\u0627\\u0644\\u062f\\u0627\\u0631 \\u06c1\\u0648\\u0646\\u06d2 \\u067e\\u0631 \\u06a9\\u06cc\\u0627 \\u062a\\u06be\\u0627 \\u062c\\u06c1\\u0627\\u06ba \\u0644\\u0691\\u0627\\u0626\\u06cc \\u06c1\\u0648 \\u06cc\\u0627 \\u067e\\u0631\\u0648\\u0627\\u0632 \\u06c1\\u0648 \\u060c \\u0645\\u0627\\u0631 \\u0688\\u0627\\u0644\\u0648 \\u06c1\\u0648 \\u06cc\\u0627 \\u0645\\u0627\\u0631\\u0627 \\u062c\\u0627\\u0626\\u06d2 \\u06af\\u0627\\u06d4 \\u0645\\u0648\\u0644\\u06cc \\u0627\\u0648\\u0631 \\u0628\\u0648\\u0644\\u0679 \\u06a9\\u06d2 \\u0645\\u0627\\u0628\\u06cc\\u0646 \\u0645\\u062d\\u0628\\u062a \\u06a9\\u0627 \\u0631\\u0634\\u062a\\u06c1 \\u0633\\u0627\\u0632\\u0634 \\u06a9\\u0631\\u0646\\u0627 \\u0636\\u0631\\u0648\\u0631\\u06cc \\u0646\\u06c1\\u06cc\\u06ba \\u062a\\u06be\\u0627 \\u060c \\u0645\\u062c\\u06be\\u06d2 \\\"\\u0632\\u0646\\u062f\\u06af\\u06cc \\u06a9\\u06cc \\u0628\\u062f\\u0628\\u0648\\u062f\\u0627\\u0631\\\" \\u067e\\u0627\\u06cc\\u0627 \\u062c\\u0627\\u062a\\u0627 \\u06c1\\u06d2\\u06d4 \\u0645\\u06cc\\u0644 \\u0628\\u0631\\u0648\\u06a9\\u0633 \\u06a9\\u06cc \\u0645\\u0634\\u0627\\u06c1\\u062f\\u06c1 \\u06a9\\u0631\\u0646\\u06d2 \\u0648\\u0627\\u0644\\u06cc \\u0641\\u0644\\u0645\\u0648\\u06ba \\u0645\\u06cc\\u06ba \\u062c\\u06c1\\u0627\\u06ba \\u06a9\\u0627\\u0645\\u06cc\\u0688\\u06cc \\u06c1\\u0648\\u0646\\u06d2 \\u0633\\u06d2 \\u067e\\u06c1\\u0644\\u06d2 \\u060c \\u0627\\u0633 \\u06a9\\u06d2 \\u062a\\u06be\\u067e\\u0691 \\u0686\\u067e\\u06a9\\u0646\\u06d2 \\u0648\\u0627\\u0644\\u06d2 \\u06a9\\u0627\\u0645 \\u062c\\u06cc\\u0633\\u06d2 \\u0628\\u0644\\u06cc\\u0632\\u0646\\u06af \\u0633\\u06cc\\u0688\\u0644\\u0632 \\u060c \\u06cc\\u0646\\u06af \\u0641\\u0631\\u06cc\\u0646\\u06a9\\u06cc\\u0646 \\u0627\\u0633\\u0679\\u0627\\u0626\\u0646 \\u060c \\u06cc\\u0627 \\u0627\\u0633 \\u0645\\u0639\\u0627\\u0645\\u0644\\u06d2 \\u06a9\\u06d2 \\u0644\\u0626\\u06d2 \\u0627\\u0633\\u067e\\u06cc\\u0633 \\u0628\\u0627\\u0644\\u0632 \\u06a9\\u06d2 \\u0645\\u0642\\u0627\\u0628\\u0644\\u06d2 \\u0645\\u06cc\\u06ba \\u0627\\u06cc\\u06a9 \\u0679\\u06cc\\u0646\\u0688\\u0631 \\u0679\\u0631\\u06cc\\u0646\\u0688 \\u062f\\u06a9\\u06be\\u0627\\u062a\\u0627 \\u06c1\\u06d2 \\u060c \\u06cc\\u06c1 \\u0638\\u0627\\u06c1\\u0631 \\u06a9\\u0631\\u0646\\u06d2 \\u06a9\\u06d2 \\u0644\\u0626\\u06d2 \\u06a9\\u06c1 \\u0627\\u06af\\u0644\\u06d2 \\u062f\\u0646 \\u0627\\u0633\\u06d2 \\u06a9\\u06be\\u0648\\u0646\\u06d2 \\u0633\\u06d2 \\u067e\\u06c1\\u0644\\u06d2 \\u0642\\u06cc\\u0645\\u062a\\u06cc \\u0686\\u06cc\\u0632 \\u06a9\\u06cc \\u0637\\u0631\\u062d \\u06c1\\u06d2\\u06d4 \\u06cc\\u0627 \\u062f\\u0648\\u0633\\u0631\\u06cc \\u0637\\u0631\\u0641 \\u0627\\u06cc\\u06a9 \\u0627\\u062d\\u0645\\u0642\\u0627\\u0646\\u06c1 \\u0634\\u0631\\u0637 \\u0644\\u06af\\u0627\\u0646\\u0627 \\u062c\\u06cc\\u0633\\u06d2 \\u062a\\u0645\\u0627\\u0645 \\u0627\\u0645\\u06cc\\u0631 \\u0644\\u0648\\u06af \\u06a9\\u0631\\u062a\\u06d2 \\u06c1\\u06cc\\u06ba \\u062c\\u0628 \\u0648\\u06c1 \\u0646\\u06c1\\u06cc\\u06ba \\u062c\\u0627\\u0646\\u062a\\u06d2 \\u06c1\\u06cc\\u06ba \\u06a9\\u06c1 \\u0627\\u0646 \\u06a9\\u06d2 \\u067e\\u06cc\\u0633\\u0648\\u06ba \\u06a9\\u0627 \\u06a9\\u06cc\\u0627 \\u06a9\\u0631\\u0646\\u0627 \\u06c1\\u06d2\\u06d4 \\u06c1\\u0648\\u0633\\u06a9\\u062a\\u0627 \\u06c1\\u06d2 \\u06a9\\u06c1 \\u0648\\u06c1 \\u0627\\u062c\\u0627\\u0631\\u06c1 \\u062f\\u0627\\u0631\\u06cc \\u0631\\u0642\\u0645 \\u06a9\\u06cc \\u0637\\u0631\\u062d \\u0627\\u0633\\u062a\\u0639\\u0645\\u0627\\u0644 \\u06a9\\u0631\\u0646\\u06d2 \\u06a9\\u06d2 \\u0628\\u062c\\u0627\\u0626\\u06d2 \\u0627\\u0633\\u06d2 \\u0628\\u06d2 \\u06af\\u06be\\u0631\\u0648\\u06ba \\u06a9\\u0648 \\u062f\\u06d2 \\u062f\\u06cc\\u06ba\\u06d4 \\u06cc\\u0627 \\u0634\\u0627\\u06cc\\u062f \\u06cc\\u06c1 \\u0641\\u0644\\u0645 \\u0622\\u067e \\u06a9\\u0648 \\u062f\\u0648\\u0633\\u0631\\u0648\\u06ba \\u06a9\\u06cc \\u0645\\u062f\\u062f \\u06a9\\u0631\\u0646\\u06d2 \\u06a9\\u06cc \\u062a\\u0631\\u063a\\u06cc\\u0628 \\u062f\\u06d2 \\u06af\\u06cc\\u06d4\"\n        ],\n        \"semantic_type\": \"\",\n        \"description\": \"\"\n      }\n    },\n    {\n      \"column\": \"label\",\n      \"properties\": {\n        \"dtype\": \"category\",\n        \"num_unique_values\": 1,\n        \"samples\": [\n          \"positive\"\n        ],\n        \"semantic_type\": \"\",\n        \"description\": \"\"\n      }\n    },\n    {\n      \"column\": \"preprocessed_text\",\n      \"properties\": {\n        \"dtype\": \"string\",\n        \"num_unique_values\": 2980,\n        \"samples\": [\n          \"\\u06a9\\u06cc\\u0627 \\u06a9\\u0633\\u06cc \\u06a9\\u0648 \\u0645\\u0639\\u0644\\u0648\\u0645 \\u06c1\\u06d2 \\u06a9\\u06c1 \\u0627\\u0633 \\u0641\\u0644\\u0645 \\u06a9\\u06cc \\u0634\\u0648\\u0679\\u0646\\u06af \\u06a9\\u06c1\\u0627\\u06ba \\u06a9\\u06cc \\u06af\\u0626\\u06cc \\u06c1\\u06d2 \\u067e\\u06c1\\u0627\\u0691 \\u067e\\u0631 \\u06c1\\u0648\\u0627 \\u0628\\u0627\\u0632\\u06cc \\u06a9\\u0627 \\u0645\\u0646\\u0638\\u0631 \\u062e\\u0648\\u0628\\u0635\\u0648\\u0631\\u062a \\u06c1\\u06d2 \\u06cc\\u06c1 \\u0627\\u0646\\u06af\\u0644\\u06cc\\u0646\\u0688 \\u0644\\u06af\\u062a\\u0627 \\u06c1\\u06d2 \\u062a\\u0627\\u06c1\\u0645  \\u0622\\u0626\\u06cc\\u0648\\u06cc \\u06a9\\u06d2 \\u0627\\u067e\\u0627\\u0631\\u0679\\u0645\\u0646\\u0679 \\u06a9\\u06cc \\u0639\\u0645\\u0627\\u0631\\u062a \\u06cc\\u0642\\u06cc\\u0646\\u06cc \\u0637\\u0648\\u0631 \\u067e\\u0631 \\u0628\\u0631\\u0644 \\u0628\\u0644\\u0688\\u0646\\u06af \\u06a9\\u06cc \\u0637\\u0631\\u062d \\u0646\\u0638\\u0631 \\u0622\\u062a\\u06cc \\u06c1\\u06d2  \\u062c\\u0633 \\u0645\\u06cc\\u06ba \\u0627\\u0633 \\u06a9\\u06cc \\u062f\\u0644\\u0686\\u0633\\u067e \\u0644\\u0641\\u0679\\u06cc\\u06ba \\u06c1\\u06cc\\u06ba \\u0686\\u0627\\u0631\\u0644\\u0633 \\u0645\\u06cc\\u0646\\u0688\\u0644 \\u0633\\u0631 \\u0686\\u0627\\u0631\\u0644\\u0633 \\u06af\\u06cc\\u062c \\u06a9\\u06d2 \\u06a9\\u06be\\u06cc\\u0644 \\u06a9\\u06d2 \\u0637\\u0648\\u0631 \\u067e\\u0631 \\u062f\\u0631\\u062c \\u06c1\\u06d2 \\u0634\\u0627\\u06cc\\u062f \\u0645\\u06cc\\u06ba \\u0646\\u06d2 \\u067e\\u0644\\u06a9 \\u062c\\u06be\\u067e\\u06a9 \\u062f\\u06cc  \\u0644\\u06cc\\u06a9\\u0646 \\u0645\\u06cc\\u06ba \\u0646\\u06d2 \\u0627\\u0633\\u06d2 \\u06a9\\u0628\\u06be\\u06cc \\u0646\\u06c1\\u06cc\\u06ba \\u062f\\u06cc\\u06a9\\u06be\\u0627 \\u0634\\u0627\\u06cc\\u062f \\u0648\\u06c1 \\u0634\\u0648\\u06c1\\u0631 \\u06a9\\u0627 \\u0648\\u06a9\\u06cc\\u0644 \\u062a\\u06be\\u0627  \\u0644\\u06cc\\u06a9\\u0646  \\u0645\\u062c\\u06be\\u06d2 \\u067e\\u06be\\u0631 \\u0633\\u06d2 \\u0641\\u0644\\u0645 \\u0645\\u06cc\\u06ba \\u0648\\u06c1 \\u06a9\\u0631\\u062f\\u0627\\u0631 \\u06cc\\u0627\\u062f \\u0646\\u06c1\\u06cc\\u06ba \\u0622\\u0631\\u06c1\\u0627  \\u0627\\u0633 \\u06a9\\u06d2 \\u0639\\u0644\\u0627\\u0648\\u06c1 \\u06a9\\u0633\\u06cc \\u0646\\u06d2 \\u0641\\u0648\\u0646 \\u06a9\\u0627\\u0644 \\u06a9\\u0631\\u0646\\u06d2 \\u06a9\\u0627 \\u0630\\u06a9\\u0631 \\u06a9\\u06cc\\u0627 \\u06c1\\u06d2 \\u0634\\u0627\\u06cc\\u062f \\u0648\\u06c1 \\u06c1\\u0648\\u0627 \\u0628\\u0627\\u0632\\u06cc \\u06a9\\u06d2 \\u0645\\u0646\\u0638\\u0631 \\u0645\\u06cc\\u06ba \\u062a\\u06be\\u0627 \\u06cc\\u0627 \\u0628\\u0627\\u0644 \\u0631\\u0648\\u0645 \\u06a9\\u0627 \\u0645\\u0646\\u0638\\u0631 \\u06a9\\u06cc\\u0627 \\u06a9\\u0633\\u06cc \\u0646\\u06d2 \\u0627\\u0633\\u06d2 \\u062f\\u06cc\\u06a9\\u06be\\u0627 \\u06c1\\u0631\\u0628\\u0631\\u0679 \\u0645\\u0627\\u0631\\u0634\\u0644  \\u0633\\u0627\\u0644 \\u06a9\\u06d2 \\u062a\\u06be\\u06d2 \\u062c\\u0628 \\u0627\\u0646\\u06c1\\u0648\\u06ba \\u0646\\u06d2 \\u0627\\u0633 \\u0641\\u0644\\u0645 \\u06a9\\u06cc \\u0634\\u0648\\u0679\\u0646\\u06af \\u06a9\\u06cc\"\n        ],\n        \"semantic_type\": \"\",\n        \"description\": \"\"\n      }\n    }\n  ]\n}"
            }
          },
          "metadata": {},
          "execution_count": 44
        }
      ]
    },
    {
      "cell_type": "code",
      "source": [
        "report = classification_report(encoded_labels, predictions, target_names=label_mapping.values())\n",
        "print(report)"
      ],
      "metadata": {
        "colab": {
          "base_uri": "https://localhost:8080/"
        },
        "id": "YWMEZesWsE6q",
        "outputId": "fdd3f4fa-c1af-48fc-f27b-758370aefe3f"
      },
      "execution_count": null,
      "outputs": [
        {
          "output_type": "stream",
          "name": "stdout",
          "text": [
            "              precision    recall  f1-score   support\n",
            "\n",
            "    negative       0.86      0.76      0.81     25000\n",
            "    positive       0.79      0.88      0.83     25000\n",
            "\n",
            "    accuracy                           0.82     50000\n",
            "   macro avg       0.83      0.82      0.82     50000\n",
            "weighted avg       0.83      0.82      0.82     50000\n",
            "\n"
          ]
        }
      ]
    }
  ],
  "metadata": {
    "kernelspec": {
      "display_name": "Python 3",
      "name": "python3"
    },
    "language_info": {
      "codemirror_mode": {
        "name": "ipython",
        "version": 3
      },
      "file_extension": ".py",
      "mimetype": "text/x-python",
      "name": "python",
      "nbconvert_exporter": "python",
      "pygments_lexer": "ipython3",
      "version": "3.11.5"
    },
    "colab": {
      "provenance": [],
      "gpuType": "T4"
    },
    "accelerator": "GPU"
  },
  "nbformat": 4,
  "nbformat_minor": 0
}